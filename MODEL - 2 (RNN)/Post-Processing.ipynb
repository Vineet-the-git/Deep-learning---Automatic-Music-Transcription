{
  "nbformat": 4,
  "nbformat_minor": 0,
  "metadata": {
    "colab": {
      "name": "Post Processing RNN_2.ipynb",
      "provenance": [],
      "collapsed_sections": []
    },
    "kernelspec": {
      "name": "python3",
      "display_name": "Python 3"
    },
    "language_info": {
      "name": "python"
    }
  },
  "cells": [
    {
      "cell_type": "code",
      "metadata": {
        "id": "xrtoIzYNb-zw"
      },
      "source": [
        "import numpy as np"
      ],
      "execution_count": 1,
      "outputs": []
    },
    {
      "cell_type": "code",
      "metadata": {
        "id": "TBuCmlplxvEf"
      },
      "source": [
        "arr = np.load('MAPS.npy')\n",
        "\n",
        "#Creating Piano roll from 2D boolean array\n",
        "arr2 = np.empty((20426, 88), dtype = int) \n",
        "for i in range(arr.shape[0]):\n",
        "    for j in range(arr.shape[1]):\n",
        "        if arr[i,j]==False:\n",
        "            arr2[i,j]=int(0)\n",
        "            int(arr2[i,j])\n",
        "        elif arr[i,j]==True:\n",
        "            arr2[i,j]=int(1)\n",
        "\n",
        "arr3 = np.zeros((88,20426,2), dtype=int)\n",
        "\n",
        "start=1\n",
        "k=0 \n",
        "\n",
        "#Array to store the start and end times of each note played in key \n",
        "for j in range(arr2.shape[1]):\n",
        "    for i in range(arr2.shape[0]):\n",
        "        if arr2[i,j]==1 and start==1:\n",
        "            arr3[j,k,0]=i\n",
        "            start=0\n",
        "        elif arr2[i,j]==0 and start==0:\n",
        "            arr3[j,k,1]=i\n",
        "            start=1\n",
        "            k+=1\n",
        "    k=0\n",
        "\n",
        "#Array to store the end times of each key \n",
        "arr4=np.zeros((88), dtype=int)\n",
        "for i in range(arr3.shape[0]):\n",
        "  for j in range(arr3.shape[1]):\n",
        "    if arr3[i,j,0]==0:\n",
        "      arr4[i]=j\n",
        "      break"
      ],
      "execution_count": 2,
      "outputs": []
    },
    {
      "cell_type": "code",
      "metadata": {
        "id": "KME19eSeiWDU",
        "colab": {
          "base_uri": "https://localhost:8080/"
        },
        "outputId": "a9b5502a-9878-4504-a160-39dfd1162af2"
      },
      "source": [
        "!pip install midiutil\n",
        "from midiutil.MidiFile import MIDIFile"
      ],
      "execution_count": 3,
      "outputs": [
        {
          "output_type": "stream",
          "text": [
            "Collecting midiutil\n",
            "  Downloading MIDIUtil-1.2.1.tar.gz (1.0 MB)\n",
            "\u001b[?25l\r\u001b[K     |▎                               | 10 kB 23.4 MB/s eta 0:00:01\r\u001b[K     |▋                               | 20 kB 29.8 MB/s eta 0:00:01\r\u001b[K     |█                               | 30 kB 33.9 MB/s eta 0:00:01\r\u001b[K     |█▎                              | 40 kB 35.1 MB/s eta 0:00:01\r\u001b[K     |█▋                              | 51 kB 34.8 MB/s eta 0:00:01\r\u001b[K     |██                              | 61 kB 37.3 MB/s eta 0:00:01\r\u001b[K     |██▎                             | 71 kB 27.4 MB/s eta 0:00:01\r\u001b[K     |██▋                             | 81 kB 28.5 MB/s eta 0:00:01\r\u001b[K     |███                             | 92 kB 28.5 MB/s eta 0:00:01\r\u001b[K     |███▎                            | 102 kB 28.9 MB/s eta 0:00:01\r\u001b[K     |███▋                            | 112 kB 28.9 MB/s eta 0:00:01\r\u001b[K     |███▉                            | 122 kB 28.9 MB/s eta 0:00:01\r\u001b[K     |████▏                           | 133 kB 28.9 MB/s eta 0:00:01\r\u001b[K     |████▌                           | 143 kB 28.9 MB/s eta 0:00:01\r\u001b[K     |████▉                           | 153 kB 28.9 MB/s eta 0:00:01\r\u001b[K     |█████▏                          | 163 kB 28.9 MB/s eta 0:00:01\r\u001b[K     |█████▌                          | 174 kB 28.9 MB/s eta 0:00:01\r\u001b[K     |█████▉                          | 184 kB 28.9 MB/s eta 0:00:01\r\u001b[K     |██████▏                         | 194 kB 28.9 MB/s eta 0:00:01\r\u001b[K     |██████▌                         | 204 kB 28.9 MB/s eta 0:00:01\r\u001b[K     |██████▉                         | 215 kB 28.9 MB/s eta 0:00:01\r\u001b[K     |███████▏                        | 225 kB 28.9 MB/s eta 0:00:01\r\u001b[K     |███████▍                        | 235 kB 28.9 MB/s eta 0:00:01\r\u001b[K     |███████▊                        | 245 kB 28.9 MB/s eta 0:00:01\r\u001b[K     |████████                        | 256 kB 28.9 MB/s eta 0:00:01\r\u001b[K     |████████▍                       | 266 kB 28.9 MB/s eta 0:00:01\r\u001b[K     |████████▊                       | 276 kB 28.9 MB/s eta 0:00:01\r\u001b[K     |█████████                       | 286 kB 28.9 MB/s eta 0:00:01\r\u001b[K     |█████████▍                      | 296 kB 28.9 MB/s eta 0:00:01\r\u001b[K     |█████████▊                      | 307 kB 28.9 MB/s eta 0:00:01\r\u001b[K     |██████████                      | 317 kB 28.9 MB/s eta 0:00:01\r\u001b[K     |██████████▍                     | 327 kB 28.9 MB/s eta 0:00:01\r\u001b[K     |██████████▊                     | 337 kB 28.9 MB/s eta 0:00:01\r\u001b[K     |███████████                     | 348 kB 28.9 MB/s eta 0:00:01\r\u001b[K     |███████████▎                    | 358 kB 28.9 MB/s eta 0:00:01\r\u001b[K     |███████████▋                    | 368 kB 28.9 MB/s eta 0:00:01\r\u001b[K     |████████████                    | 378 kB 28.9 MB/s eta 0:00:01\r\u001b[K     |████████████▎                   | 389 kB 28.9 MB/s eta 0:00:01\r\u001b[K     |████████████▋                   | 399 kB 28.9 MB/s eta 0:00:01\r\u001b[K     |█████████████                   | 409 kB 28.9 MB/s eta 0:00:01\r\u001b[K     |█████████████▎                  | 419 kB 28.9 MB/s eta 0:00:01\r\u001b[K     |█████████████▋                  | 430 kB 28.9 MB/s eta 0:00:01\r\u001b[K     |██████████████                  | 440 kB 28.9 MB/s eta 0:00:01\r\u001b[K     |██████████████▎                 | 450 kB 28.9 MB/s eta 0:00:01\r\u001b[K     |██████████████▋                 | 460 kB 28.9 MB/s eta 0:00:01\r\u001b[K     |██████████████▉                 | 471 kB 28.9 MB/s eta 0:00:01\r\u001b[K     |███████████████▏                | 481 kB 28.9 MB/s eta 0:00:01\r\u001b[K     |███████████████▌                | 491 kB 28.9 MB/s eta 0:00:01\r\u001b[K     |███████████████▉                | 501 kB 28.9 MB/s eta 0:00:01\r\u001b[K     |████████████████▏               | 512 kB 28.9 MB/s eta 0:00:01\r\u001b[K     |████████████████▌               | 522 kB 28.9 MB/s eta 0:00:01\r\u001b[K     |████████████████▉               | 532 kB 28.9 MB/s eta 0:00:01\r\u001b[K     |█████████████████▏              | 542 kB 28.9 MB/s eta 0:00:01\r\u001b[K     |█████████████████▌              | 552 kB 28.9 MB/s eta 0:00:01\r\u001b[K     |█████████████████▉              | 563 kB 28.9 MB/s eta 0:00:01\r\u001b[K     |██████████████████▏             | 573 kB 28.9 MB/s eta 0:00:01\r\u001b[K     |██████████████████▍             | 583 kB 28.9 MB/s eta 0:00:01\r\u001b[K     |██████████████████▊             | 593 kB 28.9 MB/s eta 0:00:01\r\u001b[K     |███████████████████             | 604 kB 28.9 MB/s eta 0:00:01\r\u001b[K     |███████████████████▍            | 614 kB 28.9 MB/s eta 0:00:01\r\u001b[K     |███████████████████▊            | 624 kB 28.9 MB/s eta 0:00:01\r\u001b[K     |████████████████████            | 634 kB 28.9 MB/s eta 0:00:01\r\u001b[K     |████████████████████▍           | 645 kB 28.9 MB/s eta 0:00:01\r\u001b[K     |████████████████████▊           | 655 kB 28.9 MB/s eta 0:00:01\r\u001b[K     |█████████████████████           | 665 kB 28.9 MB/s eta 0:00:01\r\u001b[K     |█████████████████████▍          | 675 kB 28.9 MB/s eta 0:00:01\r\u001b[K     |█████████████████████▊          | 686 kB 28.9 MB/s eta 0:00:01\r\u001b[K     |██████████████████████          | 696 kB 28.9 MB/s eta 0:00:01\r\u001b[K     |██████████████████████▎         | 706 kB 28.9 MB/s eta 0:00:01\r\u001b[K     |██████████████████████▋         | 716 kB 28.9 MB/s eta 0:00:01\r\u001b[K     |███████████████████████         | 727 kB 28.9 MB/s eta 0:00:01\r\u001b[K     |███████████████████████▎        | 737 kB 28.9 MB/s eta 0:00:01\r\u001b[K     |███████████████████████▋        | 747 kB 28.9 MB/s eta 0:00:01\r\u001b[K     |████████████████████████        | 757 kB 28.9 MB/s eta 0:00:01\r\u001b[K     |████████████████████████▎       | 768 kB 28.9 MB/s eta 0:00:01\r\u001b[K     |████████████████████████▋       | 778 kB 28.9 MB/s eta 0:00:01\r\u001b[K     |█████████████████████████       | 788 kB 28.9 MB/s eta 0:00:01\r\u001b[K     |█████████████████████████▎      | 798 kB 28.9 MB/s eta 0:00:01\r\u001b[K     |█████████████████████████▋      | 808 kB 28.9 MB/s eta 0:00:01\r\u001b[K     |█████████████████████████▉      | 819 kB 28.9 MB/s eta 0:00:01\r\u001b[K     |██████████████████████████▏     | 829 kB 28.9 MB/s eta 0:00:01\r\u001b[K     |██████████████████████████▌     | 839 kB 28.9 MB/s eta 0:00:01\r\u001b[K     |██████████████████████████▉     | 849 kB 28.9 MB/s eta 0:00:01\r\u001b[K     |███████████████████████████▏    | 860 kB 28.9 MB/s eta 0:00:01\r\u001b[K     |███████████████████████████▌    | 870 kB 28.9 MB/s eta 0:00:01\r\u001b[K     |███████████████████████████▉    | 880 kB 28.9 MB/s eta 0:00:01\r\u001b[K     |████████████████████████████▏   | 890 kB 28.9 MB/s eta 0:00:01\r\u001b[K     |████████████████████████████▌   | 901 kB 28.9 MB/s eta 0:00:01\r\u001b[K     |████████████████████████████▉   | 911 kB 28.9 MB/s eta 0:00:01\r\u001b[K     |█████████████████████████████▏  | 921 kB 28.9 MB/s eta 0:00:01\r\u001b[K     |█████████████████████████████▍  | 931 kB 28.9 MB/s eta 0:00:01\r\u001b[K     |█████████████████████████████▊  | 942 kB 28.9 MB/s eta 0:00:01\r\u001b[K     |██████████████████████████████  | 952 kB 28.9 MB/s eta 0:00:01\r\u001b[K     |██████████████████████████████▍ | 962 kB 28.9 MB/s eta 0:00:01\r\u001b[K     |██████████████████████████████▊ | 972 kB 28.9 MB/s eta 0:00:01\r\u001b[K     |███████████████████████████████ | 983 kB 28.9 MB/s eta 0:00:01\r\u001b[K     |███████████████████████████████▍| 993 kB 28.9 MB/s eta 0:00:01\r\u001b[K     |███████████████████████████████▊| 1.0 MB 28.9 MB/s eta 0:00:01\r\u001b[K     |████████████████████████████████| 1.0 MB 28.9 MB/s \n",
            "\u001b[?25hBuilding wheels for collected packages: midiutil\n",
            "  Building wheel for midiutil (setup.py) ... \u001b[?25l\u001b[?25hdone\n",
            "  Created wheel for midiutil: filename=MIDIUtil-1.2.1-py3-none-any.whl size=54566 sha256=727ac86e3c8d46ea173dc256b4ba2ede376e9b1046ac3d49ee6b7d3595386d2a\n",
            "  Stored in directory: /root/.cache/pip/wheels/e3/97/cd/a677b61a76d575f373e2e10302f1d9106507fea6dd1320df03\n",
            "Successfully built midiutil\n",
            "Installing collected packages: midiutil\n",
            "Successfully installed midiutil-1.2.1\n"
          ],
          "name": "stdout"
        }
      ]
    },
    {
      "cell_type": "code",
      "metadata": {
        "id": "nuw7Jf4jiUh5",
        "colab": {
          "base_uri": "https://localhost:8080/"
        },
        "outputId": "661c2b3a-d08f-4591-9aa4-61dfc0ddff1e"
      },
      "source": [
        "!pip install pretty_midi\n",
        "\n",
        "import pretty_midi\n",
        "import matplotlib\n",
        "import matplotlib.pyplot as plt\n",
        "from matplotlib.patches import Rectangle\n",
        "import pandas as pd"
      ],
      "execution_count": 4,
      "outputs": [
        {
          "output_type": "stream",
          "text": [
            "Collecting pretty_midi\n",
            "  Downloading pretty_midi-0.2.9.tar.gz (5.6 MB)\n",
            "\u001b[K     |████████████████████████████████| 5.6 MB 21.2 MB/s \n",
            "\u001b[?25hRequirement already satisfied: numpy>=1.7.0 in /usr/local/lib/python3.7/dist-packages (from pretty_midi) (1.19.5)\n",
            "Collecting mido>=1.1.16\n",
            "  Downloading mido-1.2.10-py2.py3-none-any.whl (51 kB)\n",
            "\u001b[K     |████████████████████████████████| 51 kB 6.9 MB/s \n",
            "\u001b[?25hRequirement already satisfied: six in /usr/local/lib/python3.7/dist-packages (from pretty_midi) (1.15.0)\n",
            "Building wheels for collected packages: pretty-midi\n",
            "  Building wheel for pretty-midi (setup.py) ... \u001b[?25l\u001b[?25hdone\n",
            "  Created wheel for pretty-midi: filename=pretty_midi-0.2.9-py3-none-any.whl size=5591955 sha256=49f7b62ed3fe7cc42442c3758b773a23fcdd8031d4c8fb0fd604429070c21af3\n",
            "  Stored in directory: /root/.cache/pip/wheels/ad/74/7c/a06473ca8dcb63efb98c1e67667ce39d52100f837835ea18fa\n",
            "Successfully built pretty-midi\n",
            "Installing collected packages: mido, pretty-midi\n",
            "Successfully installed mido-1.2.10 pretty-midi-0.2.9\n"
          ],
          "name": "stdout"
        }
      ]
    },
    {
      "cell_type": "code",
      "metadata": {
        "id": "VdfC_gyX-qz0"
      },
      "source": [
        "#Converts MIDI file to a dataframe using pretty_MIDI and using Matplotlib to get piano roll representation\n",
        "\n",
        "def pianoroll(path,plot):\n",
        "  midi_data = pretty_midi.PrettyMIDI(path)\n",
        "  midi_list = []\n",
        "\n",
        "  pretty_midi.pretty_midi.MAX_TICK = 1e10\n",
        "  midi_data.tick_to_time(14325216)\n",
        "\n",
        "  for instrument in midi_data.instruments:\n",
        "      for note in instrument.notes:\n",
        "          start = note.start\n",
        "          end = note.end\n",
        "          pitch = note.pitch\n",
        "          velocity = note.velocity\n",
        "          midi_list.append([start, end, pitch, velocity, instrument.name])\n",
        "          \n",
        "  midi_list = sorted(midi_list, key=lambda x: (x[0], x[2]))\n",
        "\n",
        "  df = pd.DataFrame(midi_list, columns=['Start', 'End', 'Pitch', 'Velocity', 'Instrument'])\n",
        "\n",
        "  time_list = df[\"End\"].tolist()\n",
        "  rows = len(time_list)\n",
        "\n",
        "  if plot==True :\n",
        "\n",
        "    fig, ax = plt.subplots()\n",
        "\n",
        "    i = 0\n",
        "    while(i<rows) :\n",
        "        start = float(midi_list[i][0])\n",
        "        pitch = float(midi_list[i][2])\n",
        "        duration = float(midi_list[i][1]-midi_list[i][0])\n",
        "\n",
        "        rect = matplotlib.patches.Rectangle((start, pitch),duration, 1, color='black', linewidth=1)\n",
        "        ax.add_patch(rect)\n",
        "        i+=1\n",
        "        \n",
        "    plt.xlim([0, 240])\n",
        "    plt.ylim([0, 88])\n",
        "\n",
        "    plt.grid(color='grey',linewidth=1)\n",
        "\n",
        "    plt.show()\n",
        "  \n",
        "  stop_time=time_list[-1]\n",
        "  return stop_time"
      ],
      "execution_count": 12,
      "outputs": []
    },
    {
      "cell_type": "code",
      "metadata": {
        "id": "yriiOOW-751Y",
        "colab": {
          "base_uri": "https://localhost:8080/"
        },
        "outputId": "5c49e69d-5c10-4f0c-b76a-644d3ea488e1"
      },
      "source": [
        "stop_time= pianoroll(\"MAPS.mid\", False)\n",
        "t= float(stop_time)/float(np.shape(arr)[0])\n",
        "print(t)"
      ],
      "execution_count": 18,
      "outputs": [
        {
          "output_type": "stream",
          "text": [
            "0.011602873972352394\n"
          ],
          "name": "stdout"
        }
      ]
    },
    {
      "cell_type": "code",
      "metadata": {
        "id": "kmgy2rXIf9QM"
      },
      "source": [
        "def arr_to_midi(source_array,duration_array):\n",
        "  mf = MIDIFile(1)\n",
        "  track = 0   \n",
        "  time = 0\n",
        "  channel = 0\n",
        "  volume = 100\n",
        "  delta =t\n",
        "  mf.addTrackName(track, time, \"Output\")\n",
        "  mf.addTempo(track, time, 60)\n",
        "\n",
        "  for i in range(source_array.shape[0]):\n",
        "    for j in range(duration_array[i]):\n",
        "              pitch = i +21\n",
        "              time = delta*source_array[i,j,0]\n",
        "              duration = delta*( source_array[i,j,1] - source_array[i,j,0] ) \n",
        "              mf.addNote(track, channel, pitch, time, duration, volume)\n",
        "\n",
        "  with open(\"output.mid\", 'wb') as outf:\n",
        "      mf.writeFile(outf)"
      ],
      "execution_count": 15,
      "outputs": []
    },
    {
      "cell_type": "code",
      "metadata": {
        "id": "HRIjwt-uyy2k"
      },
      "source": [
        "arr_to_midi(arr3,arr4)"
      ],
      "execution_count": 16,
      "outputs": []
    },
    {
      "cell_type": "code",
      "metadata": {
        "id": "LL4A2vja-wCk",
        "colab": {
          "base_uri": "https://localhost:8080/",
          "height": 567
        },
        "outputId": "7912e49e-bbfa-4d93-edf5-1760122b9840"
      },
      "source": [
        "#Comparing actual and obtained MIDI files\n",
        "\n",
        "print(\"GENERATED\")\n",
        "pianoroll(\"output.mid\", True)\n",
        "print(\"ACTUAL\")\n",
        "pianoroll(\"MAPS.mid\",True)\n"
      ],
      "execution_count": 17,
      "outputs": [
        {
          "output_type": "stream",
          "text": [
            "GENERATED\n"
          ],
          "name": "stdout"
        },
        {
          "output_type": "display_data",
          "data": {
            "image/png": "[encoded data removed]",
            "text/plain": [
              "<Figure size 432x288 with 1 Axes>"
            ]
          },
          "metadata": {
            "tags": [],
            "needs_background": "light"
          }
        },
        {
          "output_type": "stream",
          "text": [
            "ACTUAL\n"
          ],
          "name": "stdout"
        },
        {
          "output_type": "display_data",
          "data": {
            "image/png": "[encoded data removed]",
            "text/plain": [
              "<Figure size 432x288 with 1 Axes>"
            ]
          },
          "metadata": {
            "tags": [],
            "needs_background": "light"
          }
        },
        {
          "output_type": "execute_result",
          "data": {
            "text/plain": [
              "237.00030375927003"
            ]
          },
          "metadata": {
            "tags": []
          },
          "execution_count": 17
        }
      ]
    }
  ]
}