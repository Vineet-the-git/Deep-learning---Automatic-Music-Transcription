{
  "nbformat": 4,
  "nbformat_minor": 5,
  "metadata": {
    "kernelspec": {
      "display_name": "Python 3",
      "language": "python",
      "name": "python3"
    },
    "language_info": {
      "codemirror_mode": {
        "name": "ipython",
        "version": 3
      },
      "file_extension": ".py",
      "mimetype": "text/x-python",
      "name": "python",
      "nbconvert_exporter": "python",
      "pygments_lexer": "ipython3",
      "version": "3.8.5"
    },
    "colab": {
      "name": "RNN_LSTM_MUSIC0.ipynb",
      "provenance": [],
      "collapsed_sections": []
    },
    "accelerator": "GPU"
  },
  "cells": [
    {
      "cell_type": "code",
      "metadata": {
        "id": "a0305f0c"
      },
      "source": [
        "#IMPORTING DIFFERENT LIBRARIES NEEDED\n",
        "import numpy as np\n",
        "from keras.preprocessing import sequence\n",
        "from keras.utils import np_utils\n",
        "from keras.models import Sequential,load_model\n",
        "from keras.layers import Dense,LSTM,Dropout, Activation, Masking\n",
        "from keras.regularizers import l2\n",
        "from keras import callbacks\n",
        "from keras.callbacks import History, ModelCheckpoint, EarlyStopping"
      ],
      "id": "a0305f0c",
      "execution_count": null,
      "outputs": []
    },
    {
      "cell_type": "code",
      "metadata": {
        "colab": {
          "base_uri": "https://localhost:8080/"
        },
        "id": "9puM9UuQTmYY",
        "outputId": "e6668562-0582-4b95-eb36-1ca1c0d984f0"
      },
      "source": [
        "from google.colab import drive\n",
        "drive.mount(\"/content/gdrive\")"
      ],
      "id": "9puM9UuQTmYY",
      "execution_count": null,
      "outputs": [
        {
          "output_type": "stream",
          "text": [
            "Mounted at /content/gdrive\n"
          ],
          "name": "stdout"
        }
      ]
    },
    {
      "cell_type": "code",
      "metadata": {
        "id": "74e79a55"
      },
      "source": [
        "#These are Padded inputs i.e there are three layers of zeros between every spectrogram.\n",
        "#Padding can be avoided but there are no cons.\n",
        "#These are already is the required shape (x*100*252 for CQT and x*100*88 for labels)\n",
        "xtrain=np.load(\"/content/gdrive/My Drive/totalCQT3.npy\")\n",
        "ytrain=np.load(\"/content/gdrive/My Drive/totallabel3.npy\")\n",
        "xtest=np.load(\"/content/gdrive/My Drive/totalCQT4.npy\")\n",
        "ytest=np.load(\"/content/gdrive/My Drive/totallabel4.npy\")"
      ],
      "id": "74e79a55",
      "execution_count": null,
      "outputs": []
    },
    {
      "cell_type": "code",
      "metadata": {
        "id": "8342dbee"
      },
      "source": [
        "#We can also do it in another method using Many inputs and one Output Technique.\n",
        "#For this we have to import data in raw form in shapes (x*252 and x*88).\n",
        "#\n",
        "######RUN THIS ONLY IF USING SECOND METHOD#######\n",
        "#\n",
        "j=0;\n",
        "y2train=[]\n",
        "for i in range(50,1540851,100):\n",
        "    y2train.append(ytrain[i,:])\n",
        "    j=j+1\n",
        "y2train=np.array(y2train)\n",
        "\n",
        "j=0;\n",
        "y2test=[]\n",
        "for i in range(50,507251,100):\n",
        "    y2test.append(ytest[i,:])\n",
        "    j=j+1\n",
        "y2test=np.array(y2test)\n",
        "\n",
        "# max_shape = (xtrain.shape[0]//100)*100\n",
        "# xtrain= np.reshape(xtrain[0:max_shape,:],(xtrain.shape[0]//100 ,100,xtrain.shape[1]))\n",
        "# max_shape = (ytrain.shape[0]//100)*100\n",
        "# ytrain= ytrain[0:max_shape,:]\n",
        "# max_shape = (xtest.shape[0]//100)*100\n",
        "# xtest= np.reshape(xtest[0:max_shape,:],(xtest.shape[0]//100,100,xtest.shape[1]))\n",
        "# max_shape = (ytest.shape[0]//100)*100\n",
        "# ytest= ytest[0:max_shape,:]\n",
        "# ytrain=np.reshape(ytrain,(ytrain.shape[0]//100,100,88))\n",
        "# ytest=np.reshape(ytest,(ytest.shape[0]//100,100,88))"
      ],
      "id": "8342dbee",
      "execution_count": null,
      "outputs": []
    },
    {
      "cell_type": "code",
      "metadata": {
        "id": "f00ff427"
      },
      "source": [
        "#CONSTRUCTING A SEQUENTIAL MODEL WITH 2 HIDDEN LAYERS. ALL ARE LSTM LAYERS WITH DROPOUTS. \n",
        "#IF USING SECOND METHOD THEN MODIFY THE RETURN SEQUENCES OF LAST LSTM LAYER.\n",
        "rnn=Sequential()\n",
        "rnn.add(LSTM(units=256,return_sequences=True,input_shape=(xtrain.shape[1],252),activation='tanh'))\n",
        "rnn.add(Dropout(0.25))\n",
        "rnn.add(LSTM(units=256,return_sequences=True,activation='tanh'))\n",
        "rnn.add(Dropout(0.25))\n",
        "rnn.add(LSTM(units=256,return_sequences=True,activation='tanh'))\n",
        "rnn.add(Dropout(0.25))\n",
        "rnn.add(Dense(units=88,activation='sigmoid'))"
      ],
      "id": "f00ff427",
      "execution_count": null,
      "outputs": []
    },
    {
      "cell_type": "code",
      "metadata": {
        "id": "572e525b"
      },
      "source": [
        "#Compiling the model with binary crossentropy since we want ouputs in binary form.\n",
        "rnn.compile(optimizer='adam',loss='binary_crossentropy')"
      ],
      "id": "572e525b",
      "execution_count": null,
      "outputs": []
    },
    {
      "cell_type": "code",
      "metadata": {
        "id": "45faf3f4"
      },
      "source": [
        "#RUN THIS IF YOU WANT TO SAVE YOUR WEIGHTS TO A LOCATION AND THEN MODIFY THE FIT ACCORDINGLY.\n",
        "checkpointer = ModelCheckpoint(filepath=\"weights (2).hdf5\", verbose=1, save_best_only=False)"
      ],
      "id": "45faf3f4",
      "execution_count": null,
      "outputs": []
    },
    {
      "cell_type": "code",
      "metadata": {
        "id": "954f5517",
        "outputId": "3edf6c3f-e036-454e-97b9-cd98d8f0fed2"
      },
      "source": [
        "#To Get the Summary of the model\n",
        "rnn.summary()"
      ],
      "id": "954f5517",
      "execution_count": null,
      "outputs": [
        {
          "output_type": "stream",
          "text": [
            "Model: \"sequential\"\n",
            "_________________________________________________________________\n",
            "Layer (type)                 Output Shape              Param #   \n",
            "=================================================================\n",
            "lstm (LSTM)                  (None, 100, 256)          521216    \n",
            "_________________________________________________________________\n",
            "dropout (Dropout)            (None, 100, 256)          0         \n",
            "_________________________________________________________________\n",
            "lstm_1 (LSTM)                (None, 100, 256)          525312    \n",
            "_________________________________________________________________\n",
            "dropout_1 (Dropout)          (None, 100, 256)          0         \n",
            "_________________________________________________________________\n",
            "lstm_2 (LSTM)                (None, 100, 256)          525312    \n",
            "_________________________________________________________________\n",
            "dropout_2 (Dropout)          (None, 100, 256)          0         \n",
            "_________________________________________________________________\n",
            "dense (Dense)                (None, 100, 88)           22616     \n",
            "=================================================================\n",
            "Total params: 1,594,456\n",
            "Trainable params: 1,594,456\n",
            "Non-trainable params: 0\n",
            "_________________________________________________________________\n"
          ],
          "name": "stdout"
        }
      ]
    },
    {
      "cell_type": "code",
      "metadata": {
        "id": "32b5aa41"
      },
      "source": [
        "#TO AVOID OVERFITTING USE EarlyStopping\n",
        "early = EarlyStopping(monitor='val_loss', min_delta=0, patience=20, verbose=1, mode='auto')"
      ],
      "id": "32b5aa41",
      "execution_count": null,
      "outputs": []
    },
    {
      "cell_type": "code",
      "metadata": {
        "colab": {
          "base_uri": "https://localhost:8080/"
        },
        "id": "b340edc4",
        "outputId": "df42fbe4-06bb-49be-f1c6-c65effb1372c"
      },
      "source": [
        "#FIT THE MODEL. Modify Batch Size According to the Processor used or According to your Aim.\n",
        "rnn.fit(xtrain,ytrain,epochs=50,verbose=1,validation_data=(xtest,ytest),callbacks=[early],batch_size=10)"
      ],
      "id": "b340edc4",
      "execution_count": null,
      "outputs": [
        {
          "output_type": "stream",
          "text": [
            "Epoch 1/50\n",
            "1585/1585 [==============================] - 184s 100ms/step - loss: 0.1802 - val_loss: 0.1164\n",
            "Epoch 2/50\n",
            "1585/1585 [==============================] - 155s 98ms/step - loss: 0.1065 - val_loss: 0.1058\n",
            "Epoch 3/50\n",
            "1585/1585 [==============================] - 155s 98ms/step - loss: 0.0904 - val_loss: 0.0980\n",
            "Epoch 4/50\n",
            "1585/1585 [==============================] - 155s 98ms/step - loss: 0.0804 - val_loss: 0.0951\n",
            "Epoch 5/50\n",
            "1585/1585 [==============================] - 155s 98ms/step - loss: 0.0735 - val_loss: 0.0935\n",
            "Epoch 6/50\n",
            "1585/1585 [==============================] - 155s 98ms/step - loss: 0.0690 - val_loss: 0.0935\n",
            "Epoch 7/50\n",
            "1585/1585 [==============================] - 157s 99ms/step - loss: 0.0640 - val_loss: 0.0904\n",
            "Epoch 8/50\n",
            "1585/1585 [==============================] - 156s 99ms/step - loss: 0.0605 - val_loss: 0.0893\n",
            "Epoch 9/50\n",
            "1585/1585 [==============================] - 156s 98ms/step - loss: 0.0578 - val_loss: 0.0896\n",
            "Epoch 10/50\n",
            "1585/1585 [==============================] - 155s 98ms/step - loss: 0.0545 - val_loss: 0.0872\n",
            "Epoch 11/50\n",
            "1585/1585 [==============================] - 155s 98ms/step - loss: 0.0523 - val_loss: 0.0866\n",
            "Epoch 12/50\n",
            "1585/1585 [==============================] - 155s 98ms/step - loss: 0.0501 - val_loss: 0.0866\n",
            "Epoch 13/50\n",
            "1585/1585 [==============================] - 155s 98ms/step - loss: 0.0480 - val_loss: 0.0854\n",
            "Epoch 14/50\n",
            "1585/1585 [==============================] - 155s 98ms/step - loss: 0.0467 - val_loss: 0.0872\n",
            "Epoch 15/50\n",
            "1585/1585 [==============================] - 155s 98ms/step - loss: 0.0448 - val_loss: 0.0873\n",
            "Epoch 16/50\n",
            "1585/1585 [==============================] - 156s 98ms/step - loss: 0.0436 - val_loss: 0.0865\n",
            "Epoch 17/50\n",
            "1585/1585 [==============================] - 155s 98ms/step - loss: 0.0424 - val_loss: 0.0869\n",
            "Epoch 18/50\n",
            "1585/1585 [==============================] - 155s 98ms/step - loss: 0.0408 - val_loss: 0.0873\n",
            "Epoch 19/50\n",
            "1585/1585 [==============================] - 155s 98ms/step - loss: 0.0399 - val_loss: 0.0878\n",
            "Epoch 20/50\n",
            "1585/1585 [==============================] - 155s 98ms/step - loss: 0.0388 - val_loss: 0.0890\n",
            "Epoch 21/50\n",
            "1585/1585 [==============================] - 155s 98ms/step - loss: 0.0376 - val_loss: 0.0901\n",
            "Epoch 22/50\n",
            "1585/1585 [==============================] - 156s 98ms/step - loss: 0.0368 - val_loss: 0.0895\n",
            "Epoch 23/50\n",
            "1585/1585 [==============================] - 156s 98ms/step - loss: 0.0362 - val_loss: 0.0885\n",
            "Epoch 24/50\n",
            "1585/1585 [==============================] - 156s 98ms/step - loss: 0.0356 - val_loss: 0.0886\n",
            "Epoch 25/50\n",
            "1585/1585 [==============================] - 156s 98ms/step - loss: 0.0342 - val_loss: 0.0909\n",
            "Epoch 26/50\n",
            "1585/1585 [==============================] - 155s 98ms/step - loss: 0.0335 - val_loss: 0.0894\n",
            "Epoch 27/50\n",
            "1585/1585 [==============================] - 156s 98ms/step - loss: 0.0331 - val_loss: 0.0918\n",
            "Epoch 28/50\n",
            "1585/1585 [==============================] - 155s 98ms/step - loss: 0.0327 - val_loss: 0.0903\n",
            "Epoch 29/50\n",
            "1585/1585 [==============================] - 156s 98ms/step - loss: 0.0322 - val_loss: 0.0904\n",
            "Epoch 30/50\n",
            "1585/1585 [==============================] - 155s 97ms/step - loss: 0.0316 - val_loss: 0.0940\n",
            "Epoch 31/50\n",
            "1585/1585 [==============================] - 155s 98ms/step - loss: 0.0306 - val_loss: 0.0918\n",
            "Epoch 32/50\n",
            "1585/1585 [==============================] - 155s 98ms/step - loss: 0.0306 - val_loss: 0.0904\n",
            "Epoch 33/50\n",
            "1585/1585 [==============================] - 155s 98ms/step - loss: 0.0303 - val_loss: 0.0935\n",
            "Epoch 00033: early stopping\n"
          ],
          "name": "stdout"
        },
        {
          "output_type": "execute_result",
          "data": {
            "text/plain": [
              "<keras.callbacks.History at 0x7f50701cfa10>"
            ]
          },
          "metadata": {
            "tags": []
          },
          "execution_count": 8
        }
      ]
    },
    {
      "cell_type": "code",
      "metadata": {
        "id": "735ef3f0"
      },
      "source": [
        "#Load Test Data.\n",
        "#Since I have used my validation and Test data as Same for Training, I have Just assigned another variable.\n",
        "xtest1=xtest\n",
        "ytest1=ytest"
      ],
      "id": "735ef3f0",
      "execution_count": null,
      "outputs": []
    },
    {
      "cell_type": "code",
      "metadata": {
        "colab": {
          "base_uri": "https://localhost:8080/"
        },
        "id": "740e6657",
        "outputId": "639ae784-988a-41d8-daa2-59651139e3d1"
      },
      "source": [
        "#Here TP Stands for True Positive, FP stand for False Positive , FN stands for False Negative.\n",
        "#We Do not consider TN since in music most of the data is TN and hence it is not logical to include TN.\n",
        "TP = 0\n",
        "FP = 0\n",
        "FN = 0\n",
        "rnn_predictions = rnn.predict(xtest1, batch_size=10, verbose = 1) \n",
        "#Now reshape Predictions back to 2D form.\n",
        "rnn_predictions = np.reshape(rnn_predictions,(ytest1.shape[0]*ytest1.shape[1],ytest1.shape[2]))\n",
        "#Reshape Labels Back to 2D form.\n",
        "ytest1 = np.reshape(ytest1,(ytest1.shape[0]*ytest1.shape[1],ytest1.shape[2]))\n",
        "#Round the values since we only want Binary Ouput.\n",
        "rnn_predictions = np.array(rnn_predictions).round()\n",
        "#Convert all the values greater than 1 to 1.\n",
        "rnn_predictions[rnn_predictions > 1] = 1"
      ],
      "id": "740e6657",
      "execution_count": null,
      "outputs": [
        {
          "output_type": "stream",
          "text": [
            "504/504 [==============================] - 23s 43ms/step\n"
          ],
          "name": "stdout"
        }
      ]
    },
    {
      "cell_type": "code",
      "metadata": {
        "id": "00765b27"
      },
      "source": [
        "def outputmetrics(rnn_predictions,ytest1):\n",
        "    TP = np.count_nonzero(np.logical_and( rnn_predictions == 1, ytest1 == 1 ))\n",
        "    FN = np.count_nonzero(np.logical_and( rnn_predictions == 0, ytest1 == 1 ))\n",
        "    FP = np.count_nonzero(np.logical_and( rnn_predictions == 1, ytest1 == 0 ))\n",
        "    if (TP) > 0:\n",
        "        Sensitivity = TP/float(TP + FN)\n",
        "        #Also called Recall\n",
        "        Precision = TP/float(TP + FP)\n",
        "        Accuracy = 100*TP/float(TP + FP + FN)\n",
        "        F=100*2*Precision*Sensitivity/(Precision + Sensitivity)\n",
        "    else: \n",
        "        Accuracy=0\n",
        "        F=0\n",
        "        Sensitivity=0\n",
        "        Precision=0\n",
        "    \n",
        "    print('\\n F-measure pre-processed: ')\n",
        "    print(F)\n",
        "    print('\\n Accuracy pre-processed: ')\n",
        "    print(Accuracy)\n",
        "    print('\\n Sensitivity pre-processed: ')\n",
        "    print(Sensitivity*100)\n",
        "    print('\\n Precision pre-processed: ')\n",
        "    print(Precision*100)\n",
        "\n",
        "    "
      ],
      "id": "00765b27",
      "execution_count": null,
      "outputs": []
    },
    {
      "cell_type": "code",
      "metadata": {
        "colab": {
          "base_uri": "https://localhost:8080/"
        },
        "id": "d016aec7",
        "outputId": "1c6b7945-3d9e-4abf-f93a-3f40a8ce8ee1"
      },
      "source": [
        "\n",
        "outputmetrics(rnn_predictions,ytest1)    \n",
        "# print('\\n F-measure pre-processed: ')\n",
        "# print(F)\n",
        "# print('\\n Accuracy pre-processed: ')\n",
        "# print(Accuracy)\n",
        "# print('\\n Sensitivity pre-processed: ')\n",
        "# print(Sensitivity)\n",
        "# print('\\n Precision pre-processed: ')\n",
        "# print(Precision)\n",
        "\n",
        "\n",
        "#F measure is Harmonic Mean of Precision and Sensitivity. Since our Data in Highly Imbalanced towards TN,\n",
        "#F measure is a better alternative to accuracy\"\"\".\n"
      ],
      "id": "d016aec7",
      "execution_count": null,
      "outputs": [
        {
          "output_type": "stream",
          "text": [
            "\n",
            " F-measure pre-processed: \n",
            "67.88389246813959\n",
            "\n",
            " Accuracy pre-processed: \n",
            "51.38199553129362\n",
            "\n",
            " Sensitivity pre-processed: \n",
            "61.41361327046675\n",
            "\n",
            " Precision pre-processed: \n",
            "75.87808766407974\n"
          ],
          "name": "stdout"
        }
      ]
    },
    {
      "cell_type": "code",
      "metadata": {
        "id": "ulYUbcBdsBAR"
      },
      "source": [
        "import matplotlib.pyplot as plt\n"
      ],
      "id": "ulYUbcBdsBAR",
      "execution_count": null,
      "outputs": []
    },
    {
      "cell_type": "code",
      "metadata": {
        "colab": {
          "base_uri": "https://localhost:8080/",
          "height": 283
        },
        "id": "pTbM5uLIr512",
        "outputId": "2d1adcf3-05db-4d53-fa6a-405932a1618a"
      },
      "source": [
        "# PLOTTING TO SEE THE VISIBLE DIFFERENCES. \n",
        "#PLOTTING BEFORE CLEANING\n",
        "\n",
        "plt.figure()\n",
        "plt.subplot(211)\n",
        "plt.imshow(rnn_predictions.transpose(),cmap='Greys',aspect='auto',interpolation='nearest')\n",
        "plt.figure()\n",
        "plt.subplot(212)\n",
        "plt.imshow(ytest1.transpose(),cmap='Greys',aspect='auto',interpolation='nearest')\n",
        "plt.show()"
      ],
      "id": "pTbM5uLIr512",
      "execution_count": null,
      "outputs": [
        {
          "output_type": "display_data",
          "data": {
            "image/png": "[encoded data removed]",
            "text/plain": [
              "<Figure size 432x288 with 1 Axes>"
            ]
          },
          "metadata": {
            "tags": [],
            "needs_background": "light"
          }
        },
        {
          "output_type": "display_data",
          "data": {
            "image/png": "[encoded data removed]",
            "text/plain": [
              "<Figure size 432x288 with 1 Axes>"
            ]
          },
          "metadata": {
            "tags": [],
            "needs_background": "light"
          }
        }
      ]
    },
    {
      "cell_type": "code",
      "metadata": {
        "id": "cb65be81"
      },
      "source": [
        "#NOW WE CLEAN THE MODEL. THIS STEP IS NOT NECESSARY AND TAKES A LOT OF TIME SINCE THERE WILL BE A LOT OF ITERATIONS.\n",
        "#SINCE OUR TIME FRAME IS SMALL WE CONSIDER LIMITS OF HUMAN CAPABILITY IN MODIFYING SOME OUTPUTS.\n",
        "\n",
        "for a in range(rnn_predictions.shape[1]):\n",
        "    for j in range(2,rnn_predictions.shape[0]-3):\n",
        "        if rnn_predictions[j-1,a] == 1 and rnn_predictions[j,a] == 0 and rnn_predictions[j+1,a] == 0 and rnn_predictions[j+2,a] == 1:\n",
        "            rnn_predictions[j,a] = 1\n",
        "            rnn_predictions[j+1,a] = 1\n",
        "        if rnn_predictions[j-2,a] == 0 and rnn_predictions[j-1,a] == 0 and rnn_predictions[j,a] == 1 and rnn_predictions[j+1,a] == 1 and rnn_predictions[j+2,a] == 0 and rnn_predictions[j+3,a] == 0:\n",
        "            rnn_predictions[j,a] = 0\n",
        "            rnn_predictions[j+1,a] = 0\n",
        "        if rnn_predictions[j-1,a] == 0 and rnn_predictions[j,a] == 1 and rnn_predictions[j+1,a] == 0 and rnn_predictions[j+2,a] == 0:\n",
        "            rnn_predictions[j,a] = 0\n",
        "        if rnn_predictions[j-1,a] == 1 and rnn_predictions[j,a] == 0 and rnn_predictions[j+1,a] == 1 and rnn_predictions[j+2,a] == 1:\n",
        "            rnn_predictions[j,a] = 1"
      ],
      "id": "cb65be81",
      "execution_count": null,
      "outputs": []
    },
    {
      "cell_type": "code",
      "metadata": {
        "colab": {
          "base_uri": "https://localhost:8080/"
        },
        "id": "c02f8583",
        "outputId": "0a8c3683-2cbe-49b7-bbf8-ce4145260932"
      },
      "source": [
        "outputmetrics(rnn_predictions,ytest1)    \n",
        "## print('\\n F-measure pre-processed: ')\n",
        "## print(F)\n",
        "## print('\\n Accuracy pre-processed: ')\n",
        "## print(Accuracy)\n",
        "\n",
        "# '''F measure is Harmonic Mean of Precision and Sensitivity. Since our Data in Highly Imbalanced towards TN,\n",
        "#    F measure is a better alternative to accuracy'''.\n",
        "# '''IN THIS THE F MEASURE VALUE AND ACCURACY WILL INCREASE BY NEGLIGIBLE AMOUNTS BUT THIS WILL LEAD TO NOTICEABLE CHANGES\n",
        "#    IN PIANO ROLL REPRESENTATION'''"
      ],
      "id": "c02f8583",
      "execution_count": null,
      "outputs": [
        {
          "output_type": "stream",
          "text": [
            "\n",
            " F-measure pre-processed: \n",
            "68.1454822114611\n",
            "\n",
            " Accuracy pre-processed: \n",
            "51.68232636575193\n",
            "\n",
            " Sensitivity pre-processed: \n",
            "61.21104743657073\n",
            "\n",
            " Precision pre-processed: \n",
            "76.85181774762204\n"
          ],
          "name": "stdout"
        }
      ]
    },
    {
      "cell_type": "code",
      "metadata": {
        "colab": {
          "base_uri": "https://localhost:8080/",
          "height": 518
        },
        "id": "5c25f860",
        "outputId": "219153be-16ba-4e32-880d-f9677dffc88a"
      },
      "source": [
        "# PLOTTING TO SEE THE VISIBLE DIFFERENCES. \n",
        "\n",
        "plt.figure()\n",
        "plt.plot\n",
        "plt.imshow(rnn_predictions.transpose(),cmap='Greys',aspect='auto',interpolation='nearest')\n",
        "plt.show()\n",
        "plt.figure()\n",
        "plt.plot\n",
        "plt.imshow(ytest1.transpose(),cmap='Greys',aspect='auto',interpolation='nearest')\n",
        "plt.show()"
      ],
      "id": "5c25f860",
      "execution_count": null,
      "outputs": [
        {
          "output_type": "display_data",
          "data": {
            "image/png": "[encoded data removed]",
            "text/plain": [
              "<Figure size 432x288 with 1 Axes>"
            ]
          },
          "metadata": {
            "tags": [],
            "needs_background": "light"
          }
        },
        {
          "output_type": "display_data",
          "data": {
            "image/png": "[encoded data removed]",
            "text/plain": [
              "<Figure size 432x288 with 1 Axes>"
            ]
          },
          "metadata": {
            "tags": [],
            "needs_background": "light"
          }
        }
      ]
    }
  ]
}