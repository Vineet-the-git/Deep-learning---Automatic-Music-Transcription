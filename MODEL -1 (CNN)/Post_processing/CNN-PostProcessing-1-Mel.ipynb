{
  "nbformat": 4,
  "nbformat_minor": 0,
  "metadata": {
    "colab": {
      "name": "MEL-Post.ipynb",
      "provenance": [],
      "collapsed_sections": []
    },
    "kernelspec": {
      "name": "python3",
      "display_name": "Python 3"
    },
    "language_info": {
      "name": "python"
    }
  },
  "cells": [
    {
      "cell_type": "code",
      "metadata": {
        "id": "WCgF-8XpkE-G"
      },
      "source": [
        "import matplotlib\n",
        "import matplotlib.pyplot as plt\n",
        "from matplotlib.patches import Rectangle\n",
        "import numpy as np"
      ],
      "execution_count": null,
      "outputs": []
    },
    {
      "cell_type": "code",
      "metadata": {
        "colab": {
          "base_uri": "https://localhost:8080/"
        },
        "id": "YKyGrvFz1hXj",
        "outputId": "641a5855-5f23-48dd-d5dc-ecfb38dd65c3"
      },
      "source": [
        "from google.colab import drive\n",
        "drive.mount('/content/drive')"
      ],
      "execution_count": null,
      "outputs": [
        {
          "output_type": "stream",
          "text": [
            "Mounted at /content/drive\n"
          ],
          "name": "stdout"
        }
      ]
    },
    {
      "cell_type": "code",
      "metadata": {
        "colab": {
          "base_uri": "https://localhost:8080/"
        },
        "id": "lXy6AX1qkMdw",
        "outputId": "e34f925a-6a57-4bc0-e46c-7ef0dd588d67"
      },
      "source": [
        "#First we generate the piano roll from y_test_pred, that has been predicted by the model\n",
        "arr = np.load('/content/drive/MyDrive/Post-Processing/MEL2.npy')\n",
        "print(np.shape(arr))"
      ],
      "execution_count": null,
      "outputs": [
        {
          "output_type": "stream",
          "text": [
            "(2953, 100, 88)\n"
          ],
          "name": "stdout"
        }
      ]
    },
    {
      "cell_type": "code",
      "metadata": {
        "colab": {
          "base_uri": "https://localhost:8080/"
        },
        "id": "-oyQ_cwy99at",
        "outputId": "aa5f0a4b-1b3d-429c-8bcf-61874e3e2ff4"
      },
      "source": [
        "#backtracking to convert 3D array to 2D\n",
        "X=[]\n",
        "i=0\n",
        "for i in range(2953):\n",
        "  if i==0:\n",
        "    X=arr[0]\n",
        "  else:\n",
        "    X=np.concatenate((X, arr[i]), axis=0)\n",
        "print(X.shape)"
      ],
      "execution_count": null,
      "outputs": [
        {
          "output_type": "stream",
          "text": [
            "(295300, 88)\n"
          ],
          "name": "stdout"
        }
      ]
    },
    {
      "cell_type": "code",
      "metadata": {
        "colab": {
          "base_uri": "https://localhost:8080/"
        },
        "id": "cZ7J8-82XMF1",
        "outputId": "d9877390-0a78-435b-cf19-27b36c21e797"
      },
      "source": [
        "#converting boolean to binary matrix with entries 0 and 1\n",
        "arr2 = np.empty((295300, 88), dtype = int) \n",
        "for i in range(X.shape[0]):\n",
        "    for j in range(X.shape[1]):\n",
        "        if X[i,j]==False:\n",
        "            arr2[i,j]=int(0)\n",
        "            int(arr2[i,j])\n",
        "        elif X[i,j]==True:\n",
        "            arr2[i,j]=int(1)\n",
        "\n",
        "         \n",
        "print(arr2)"
      ],
      "execution_count": null,
      "outputs": [
        {
          "output_type": "stream",
          "text": [
            "[[0 0 0 ... 0 0 0]\n",
            " [0 0 0 ... 0 0 0]\n",
            " [0 0 0 ... 0 0 0]\n",
            " ...\n",
            " [0 0 0 ... 0 0 0]\n",
            " [0 0 0 ... 0 0 0]\n",
            " [0 0 0 ... 0 0 0]]\n"
          ],
          "name": "stdout"
        }
      ]
    },
    {
      "cell_type": "code",
      "metadata": {
        "colab": {
          "base_uri": "https://localhost:8080/"
        },
        "id": "Su38BL8FXWGi",
        "outputId": "1d64e71a-2436-4e97-8875-cbb66bb7706d"
      },
      "source": [
        "!pip install midiutil"
      ],
      "execution_count": null,
      "outputs": [
        {
          "output_type": "stream",
          "text": [
            "Collecting midiutil\n",
            "  Downloading MIDIUtil-1.2.1.tar.gz (1.0 MB)\n",
            "\u001b[K     |████████████████████████████████| 1.0 MB 5.3 MB/s \n",
            "\u001b[?25hBuilding wheels for collected packages: midiutil\n",
            "  Building wheel for midiutil (setup.py) ... \u001b[?25l\u001b[?25hdone\n",
            "  Created wheel for midiutil: filename=MIDIUtil-1.2.1-py3-none-any.whl size=54566 sha256=b7cd97cd01e3dc4ab9ca785948c11cba4ea3be7b57e2de3dbcda75d7a16036d5\n",
            "  Stored in directory: /root/.cache/pip/wheels/e3/97/cd/a677b61a76d575f373e2e10302f1d9106507fea6dd1320df03\n",
            "Successfully built midiutil\n",
            "Installing collected packages: midiutil\n",
            "Successfully installed midiutil-1.2.1\n"
          ],
          "name": "stdout"
        }
      ]
    },
    {
      "cell_type": "code",
      "metadata": {
        "id": "A9futyqCXW8P"
      },
      "source": [
        "from midiutil.MidiFile import MIDIFile\n",
        "\n",
        "mf = MIDIFile(1)\n",
        "track = 0   \n",
        "time = 0\n",
        "delta = 0.000005\n",
        "mf.addTrackName(track, time, \"Output\")\n",
        "mf.addTempo(track, time, 120)\n",
        "\n",
        "channel = 0\n",
        "volume = 100\n",
        "duration = 0.01 \n",
        "\n",
        "for i in range(10000):   \n",
        "    time=time + i*delta\n",
        "    for j in range(arr2.shape[1]):\n",
        "        if X[i][j] == 1:\n",
        "            pitch = j\n",
        "            mf.addNote(track, channel, pitch, time, duration, volume)"
      ],
      "execution_count": null,
      "outputs": []
    },
    {
      "cell_type": "code",
      "metadata": {
        "id": "XMw5So8UtCKB"
      },
      "source": [
        "#generate the MIDI file for y_test_pred\n",
        "with open(\"output_final.mid\", 'wb') as outf:\n",
        "    mf.writeFile(outf)"
      ],
      "execution_count": null,
      "outputs": []
    },
    {
      "cell_type": "code",
      "metadata": {
        "colab": {
          "base_uri": "https://localhost:8080/"
        },
        "id": "IVa3HkOuXZ9E",
        "outputId": "62a3314b-a301-40d2-8826-d839d69eaccf"
      },
      "source": [
        "!pip install pretty_midi"
      ],
      "execution_count": null,
      "outputs": [
        {
          "output_type": "stream",
          "text": [
            "Collecting pretty_midi\n",
            "  Downloading pretty_midi-0.2.9.tar.gz (5.6 MB)\n",
            "\u001b[K     |████████████████████████████████| 5.6 MB 5.2 MB/s \n",
            "\u001b[?25hRequirement already satisfied: numpy>=1.7.0 in /usr/local/lib/python3.7/dist-packages (from pretty_midi) (1.19.5)\n",
            "Collecting mido>=1.1.16\n",
            "  Downloading mido-1.2.10-py2.py3-none-any.whl (51 kB)\n",
            "\u001b[K     |████████████████████████████████| 51 kB 5.5 MB/s \n",
            "\u001b[?25hRequirement already satisfied: six in /usr/local/lib/python3.7/dist-packages (from pretty_midi) (1.15.0)\n",
            "Building wheels for collected packages: pretty-midi\n",
            "  Building wheel for pretty-midi (setup.py) ... \u001b[?25l\u001b[?25hdone\n",
            "  Created wheel for pretty-midi: filename=pretty_midi-0.2.9-py3-none-any.whl size=5591955 sha256=903aaa48b71896ec6d13b0da63e3c0bd5fb3e9f92e5cb582cdd85fe83ce7c7d5\n",
            "  Stored in directory: /root/.cache/pip/wheels/ad/74/7c/a06473ca8dcb63efb98c1e67667ce39d52100f837835ea18fa\n",
            "Successfully built pretty-midi\n",
            "Installing collected packages: mido, pretty-midi\n",
            "Successfully installed mido-1.2.10 pretty-midi-0.2.9\n"
          ],
          "name": "stdout"
        }
      ]
    },
    {
      "cell_type": "code",
      "metadata": {
        "colab": {
          "base_uri": "https://localhost:8080/"
        },
        "id": "GVxuYJI_XcY-",
        "outputId": "7cafc86e-cc71-4af7-efad-4f18f34069d7"
      },
      "source": [
        "import pretty_midi\n",
        "import pandas as pd\n",
        "path = \"output_final.mid\"\n",
        "midi_data = pretty_midi.PrettyMIDI(path)\n",
        "midi_list = []\n",
        "\n",
        "pretty_midi.pretty_midi.MAX_TICK = 1e10\n",
        "midi_data.tick_to_time(14325216)\n",
        "\n",
        "for instrument in midi_data.instruments:\n",
        "    for note in instrument.notes:\n",
        "        start = note.start\n",
        "        end = note.end\n",
        "        pitch = note.pitch\n",
        "        velocity = note.velocity\n",
        "        midi_list.append([start, end, pitch, velocity, instrument.name])\n",
        "        \n",
        "midi_list = sorted(midi_list, key=lambda x: (x[0], x[2]))\n",
        "\n",
        "df = pd.DataFrame(midi_list, columns=['Start', 'End', 'Pitch', 'Velocity', 'Instrument'])\n",
        "\n",
        "print(df)"
      ],
      "execution_count": null,
      "outputs": [
        {
          "output_type": "stream",
          "text": [
            "          Start         End  Pitch  Velocity Instrument\n",
            "0        0.0000    0.000521     30       100     Output\n",
            "1        0.0000    0.000521     34       100     Output\n",
            "2        0.0000    0.003125     35       100     Output\n",
            "3        0.0000    0.000521     37       100     Output\n",
            "4        0.0000    0.000521     46       100     Output\n",
            "...         ...         ...    ...       ...        ...\n",
            "48101  124.9625  124.967187     49       100     Output\n",
            "48102  124.9875  124.992188     23       100     Output\n",
            "48103  124.9875  124.992188     35       100     Output\n",
            "48104  124.9875  124.992188     44       100     Output\n",
            "48105  124.9875  124.992188     47       100     Output\n",
            "\n",
            "[48106 rows x 5 columns]\n"
          ],
          "name": "stdout"
        }
      ]
    },
    {
      "cell_type": "code",
      "metadata": {
        "colab": {
          "base_uri": "https://localhost:8080/",
          "height": 283
        },
        "id": "3nSlxNnHXpu7",
        "outputId": "4468fb53-615f-489c-8e91-34064c56e4f1"
      },
      "source": [
        "fig, ax = plt.subplots()\n",
        "\n",
        "i = 0\n",
        "while(i<48105) :\n",
        "    start = float(midi_list[i][0])\n",
        "    pitch = float(midi_list[i][2])\n",
        "    duration = float(midi_list[i][1]-midi_list[i][0])\n",
        "    rect = matplotlib.patches.Rectangle((start, pitch),duration, 1, ec='black', linewidth=1)\n",
        "    ax.add_patch(rect)\n",
        "    i+=1\n",
        "  \n",
        "\n",
        "plt.xlim([0, 130])\n",
        "plt.ylim([0, 88])\n",
        "\n",
        "plt.grid(color='grey',linewidth=1)\n",
        "\n",
        "print('From Model')\n",
        "plt.show()"
      ],
      "execution_count": null,
      "outputs": [
        {
          "output_type": "stream",
          "text": [
            "From Model\n"
          ],
          "name": "stdout"
        },
        {
          "output_type": "display_data",
          "data": {
            "image/png": "[encoded data removed]",
            "text/plain": [
              "<Figure size 432x288 with 1 Axes>"
            ]
          },
          "metadata": {
            "tags": [],
            "needs_background": "light"
          }
        }
      ]
    },
    {
      "cell_type": "code",
      "metadata": {
        "colab": {
          "base_uri": "https://localhost:8080/"
        },
        "id": "O77oTJaNdMB2",
        "outputId": "1a8c9b25-ee9c-4c3b-e86c-180d197a79a8"
      },
      "source": [
        "arr3 = np.load('/content/drive/MyDrive/MEL-val/Y_final_MEL_val.npy')\n",
        "arr3=np.squeeze(arr3, axis=-2)\n",
        "print(np.shape(arr3))"
      ],
      "execution_count": null,
      "outputs": [
        {
          "output_type": "stream",
          "text": [
            "(2953, 100, 88)\n"
          ],
          "name": "stdout"
        }
      ]
    },
    {
      "cell_type": "code",
      "metadata": {
        "colab": {
          "base_uri": "https://localhost:8080/"
        },
        "id": "WCmRH6VydgSD",
        "outputId": "4afc12fd-a075-4515-ffdb-b579824e3f5b"
      },
      "source": [
        "#backtracking to convert 3D array to 2D\n",
        "X2=[]\n",
        "i=0\n",
        "for i in range(2953):\n",
        "  if i==0:\n",
        "    X2=arr3[0]\n",
        "  else:\n",
        "    X2=np.concatenate((X2, arr3[i]), axis=0)\n",
        "print(X2.shape)"
      ],
      "execution_count": null,
      "outputs": [
        {
          "output_type": "stream",
          "text": [
            "(295300, 88)\n"
          ],
          "name": "stdout"
        }
      ]
    },
    {
      "cell_type": "code",
      "metadata": {
        "colab": {
          "base_uri": "https://localhost:8080/"
        },
        "id": "5EvaENdGdoHw",
        "outputId": "bb380bb0-92d6-4553-ecd3-4c31b56255e5"
      },
      "source": [
        "#converting boolean to binary matrix with entries 0 and 1\n",
        "arr4 = np.empty((295300, 88), dtype = int) \n",
        "for i in range(X2.shape[0]):\n",
        "    for j in range(X2.shape[1]):\n",
        "        if X2[i,j]==False:\n",
        "            arr4[i,j]=int(0)\n",
        "            int(arr4[i,j])\n",
        "        elif X2[i,j]==True:\n",
        "            arr4[i,j]=int(1)\n",
        "\n",
        "         \n",
        "print(arr4)"
      ],
      "execution_count": null,
      "outputs": [
        {
          "output_type": "stream",
          "text": [
            "[[0 0 0 ... 0 0 0]\n",
            " [0 0 0 ... 0 0 0]\n",
            " [0 0 0 ... 0 0 0]\n",
            " ...\n",
            " [0 0 0 ... 0 0 0]\n",
            " [0 0 0 ... 0 0 0]\n",
            " [0 0 0 ... 0 0 0]]\n"
          ],
          "name": "stdout"
        }
      ]
    },
    {
      "cell_type": "code",
      "metadata": {
        "id": "k_eJWQq3dtri"
      },
      "source": [
        "from midiutil.MidiFile import MIDIFile\n",
        "\n",
        "mf = MIDIFile(1)\n",
        "track = 0   \n",
        "time = 0\n",
        "delta = 0.000005\n",
        "mf.addTrackName(track, time, \"Output\")\n",
        "mf.addTempo(track, time, 120)\n",
        "\n",
        "channel = 0\n",
        "volume = 100\n",
        "duration = 0.01 \n",
        "\n",
        "for i in range(10000):   \n",
        "    time=time + i*delta\n",
        "    for j in range(arr4.shape[1]):\n",
        "        if X2[i][j] == 1:\n",
        "            pitch = j\n",
        "            mf.addNote(track, channel, pitch, time, duration, volume)"
      ],
      "execution_count": null,
      "outputs": []
    },
    {
      "cell_type": "code",
      "metadata": {
        "id": "WuJaU196dxi7"
      },
      "source": [
        "#generate the MIDI file for y_test_pred\n",
        "with open(\"output_final_actual.mid\", 'wb') as outf:\n",
        "    mf.writeFile(outf)"
      ],
      "execution_count": null,
      "outputs": []
    },
    {
      "cell_type": "code",
      "metadata": {
        "colab": {
          "base_uri": "https://localhost:8080/"
        },
        "id": "2ESEAn2Od3M3",
        "outputId": "3dd7a06a-f696-4a19-d819-6cb7aeab7b04"
      },
      "source": [
        "import pretty_midi\n",
        "import pandas as pd\n",
        "path = \"output_final_actual.mid\"\n",
        "midi_data = pretty_midi.PrettyMIDI(path)\n",
        "midi_list = []\n",
        "\n",
        "pretty_midi.pretty_midi.MAX_TICK = 1e10\n",
        "midi_data.tick_to_time(14325216)\n",
        "\n",
        "for instrument in midi_data.instruments:\n",
        "    for note in instrument.notes:\n",
        "        start = note.start\n",
        "        end = note.end\n",
        "        pitch = note.pitch\n",
        "        velocity = note.velocity\n",
        "        midi_list.append([start, end, pitch, velocity, instrument.name])\n",
        "        \n",
        "midi_list = sorted(midi_list, key=lambda x: (x[0], x[2]))\n",
        "\n",
        "df = pd.DataFrame(midi_list, columns=['Start', 'End', 'Pitch', 'Velocity', 'Instrument'])\n",
        "\n",
        "print(df)"
      ],
      "execution_count": null,
      "outputs": [
        {
          "output_type": "stream",
          "text": [
            "            Start         End  Pitch  Velocity Instrument\n",
            "0        0.000000    0.000521     30       100     Output\n",
            "1        0.000000    0.000521     46       100     Output\n",
            "2        0.000000    0.000521     49       100     Output\n",
            "3        0.000521    0.001042     30       100     Output\n",
            "4        0.000521    0.001042     46       100     Output\n",
            "...           ...         ...    ...       ...        ...\n",
            "30250  124.887500  124.892187     35       100     Output\n",
            "30251  124.912500  124.917187     35       100     Output\n",
            "30252  124.937500  124.942188     35       100     Output\n",
            "30253  124.962500  124.967187     35       100     Output\n",
            "30254  124.987500  124.992188     35       100     Output\n",
            "\n",
            "[30255 rows x 5 columns]\n"
          ],
          "name": "stdout"
        }
      ]
    },
    {
      "cell_type": "code",
      "metadata": {
        "colab": {
          "base_uri": "https://localhost:8080/",
          "height": 283
        },
        "id": "dYrjaPWFd7c4",
        "outputId": "b7f358fe-f3b9-46fc-91bf-ecd61c1d3ee0"
      },
      "source": [
        "fig, ax = plt.subplots()\n",
        "\n",
        "i = 0\n",
        "while(i<30255) :\n",
        "    start = float(midi_list[i][0])\n",
        "    pitch = float(midi_list[i][2])\n",
        "    duration = float(midi_list[i][1]-midi_list[i][0])\n",
        "    rect = matplotlib.patches.Rectangle((start, pitch),duration, 1, ec='black', linewidth=1)\n",
        "    ax.add_patch(rect)\n",
        "    i+=1\n",
        "  \n",
        "\n",
        "plt.xlim([0, 130])\n",
        "plt.ylim([0, 88])\n",
        "\n",
        "plt.grid(color='grey',linewidth=1)\n",
        "\n",
        "print('Actual')\n",
        "plt.show()"
      ],
      "execution_count": null,
      "outputs": [
        {
          "output_type": "stream",
          "text": [
            "Actual\n"
          ],
          "name": "stdout"
        },
        {
          "output_type": "display_data",
          "data": {
            "image/png": "[encoded data removed]",
            "text/plain": [
              "<Figure size 432x288 with 1 Axes>"
            ]
          },
          "metadata": {
            "tags": [],
            "needs_background": "light"
          }
        }
      ]
    }
  ]
}