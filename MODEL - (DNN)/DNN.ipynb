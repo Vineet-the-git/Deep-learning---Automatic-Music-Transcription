{
  "nbformat": 4,
  "nbformat_minor": 0,
  "metadata": {
    "colab": {
      "name": "DNN.ipynb",
      "provenance": []
    },
    "kernelspec": {
      "name": "python3",
      "display_name": "Python 3"
    },
    "language_info": {
      "name": "python"
    },
    "accelerator": "GPU"
  },
  "cells": [
    {
      "cell_type": "code",
      "metadata": {
        "id": "kKjw6oduV-1i"
      },
      "source": [
        "import tensorflow as tf\n",
        "import os\n",
        "import numpy as np\n",
        "import matplotlib.pyplot as plt"
      ],
      "execution_count": 1,
      "outputs": []
    },
    {
      "cell_type": "code",
      "metadata": {
        "colab": {
          "base_uri": "https://localhost:8080/"
        },
        "id": "MJMgB6TDWJrd",
        "outputId": "b4d62a6c-bbde-4df1-e9e8-5f945734c19d"
      },
      "source": [
        "from google.colab import drive\n",
        "drive.mount('/content/drive')"
      ],
      "execution_count": 2,
      "outputs": [
        {
          "output_type": "stream",
          "text": [
            "Mounted at /content/drive\n"
          ],
          "name": "stdout"
        }
      ]
    },
    {
      "cell_type": "code",
      "metadata": {
        "id": "BOwvpCYIWzh-"
      },
      "source": [
        "X_train = np.load(\"/content/drive/MyDrive/Data/X_tr_concat.npy\")\n",
        "y_train = np.load(\"/content/drive/MyDrive/Data/y_tr_concat.npy\")\n",
        "\n",
        "X_val = np.load(\"/content/drive/MyDrive/Data/X_val_concat.npy\")\n",
        "y_val = np.load(\"/content/drive/MyDrive/Data/y_val_concat.npy\")"
      ],
      "execution_count": 3,
      "outputs": []
    },
    {
      "cell_type": "code",
      "metadata": {
        "colab": {
          "base_uri": "https://localhost:8080/"
        },
        "id": "OOqoRAZ3XP1s",
        "outputId": "63c9b73a-1a9a-4453-cefa-a67af69db690"
      },
      "source": [
        "print(X_train.shape, y_train.shape, X_val.shape, y_val.shape)"
      ],
      "execution_count": 4,
      "outputs": [
        {
          "output_type": "stream",
          "text": [
            "(1585000, 252) (1585000, 88) (503400, 252) (503400, 88)\n"
          ],
          "name": "stdout"
        }
      ]
    },
    {
      "cell_type": "code",
      "metadata": {
        "id": "JFmcwckeXokt"
      },
      "source": [
        "features = 1025\n",
        "batch_size = 512\n",
        "numepochs = 50"
      ],
      "execution_count": 6,
      "outputs": []
    },
    {
      "cell_type": "code",
      "metadata": {
        "id": "e7tfgOEXXc2-"
      },
      "source": [
        "def build_model():\n",
        "  model = tf.keras.Sequential(\n",
        "      [\n",
        "       tf.keras.layers.Dense(256, activation=\"relu\"),\n",
        "       tf.keras.layers.Dropout(0.3),\n",
        "       tf.keras.layers.Dense(256, activation=\"relu\"),\n",
        "       tf.keras.layers.Dropout(0.3),\n",
        "       tf.keras.layers.Dense(128, activation=\"tanh\"),\n",
        "       tf.keras.layers.Dropout(0.3),\n",
        "       tf.keras.layers.Dense(88, activation=\"sigmoid\")\n",
        "      ]\n",
        "      )\n",
        "  return model"
      ],
      "execution_count": 10,
      "outputs": []
    },
    {
      "cell_type": "code",
      "metadata": {
        "id": "JukliBdBXZ30"
      },
      "source": [
        "model = build_model()"
      ],
      "execution_count": 11,
      "outputs": []
    },
    {
      "cell_type": "code",
      "metadata": {
        "colab": {
          "base_uri": "https://localhost:8080/"
        },
        "id": "fwSvAOoDZ8CL",
        "outputId": "9c20b4dc-aefe-4e07-8ea4-5e6f2115add0"
      },
      "source": [
        "optimizer = tf.keras.optimizers.Adam()\n",
        "model.compile(optimizer=optimizer, loss = \"binary_crossentropy\", metrics=['accuracy'])\n",
        "stop = tf.keras.callbacks.EarlyStopping(monitor='val_loss', patience=8, mode='auto')\n",
        "history = model.fit(X_train,y_train,epochs=numepochs,batch_size=batch_size,verbose=1,validation_data=(X_val,y_val), callbacks=stop)"
      ],
      "execution_count": 12,
      "outputs": [
        {
          "output_type": "stream",
          "text": [
            "Epoch 1/50\n",
            "3096/3096 [==============================] - 17s 4ms/step - loss: 0.1147 - accuracy: 0.2142 - val_loss: 0.0950 - val_accuracy: 0.2874\n",
            "Epoch 2/50\n",
            "3096/3096 [==============================] - 13s 4ms/step - loss: 0.0855 - accuracy: 0.2894 - val_loss: 0.0919 - val_accuracy: 0.2874\n",
            "Epoch 3/50\n",
            "3096/3096 [==============================] - 12s 4ms/step - loss: 0.0799 - accuracy: 0.2959 - val_loss: 0.0906 - val_accuracy: 0.2798\n",
            "Epoch 4/50\n",
            "3096/3096 [==============================] - 12s 4ms/step - loss: 0.0772 - accuracy: 0.2980 - val_loss: 0.0894 - val_accuracy: 0.2913\n",
            "Epoch 5/50\n",
            "3096/3096 [==============================] - 13s 4ms/step - loss: 0.0755 - accuracy: 0.2988 - val_loss: 0.0888 - val_accuracy: 0.2933\n",
            "Epoch 6/50\n",
            "3096/3096 [==============================] - 12s 4ms/step - loss: 0.0743 - accuracy: 0.2995 - val_loss: 0.0889 - val_accuracy: 0.2850\n",
            "Epoch 7/50\n",
            "3096/3096 [==============================] - 14s 4ms/step - loss: 0.0735 - accuracy: 0.2990 - val_loss: 0.0886 - val_accuracy: 0.2785\n",
            "Epoch 8/50\n",
            "3096/3096 [==============================] - 13s 4ms/step - loss: 0.0728 - accuracy: 0.2997 - val_loss: 0.0883 - val_accuracy: 0.2954\n",
            "Epoch 9/50\n",
            "3096/3096 [==============================] - 12s 4ms/step - loss: 0.0723 - accuracy: 0.3011 - val_loss: 0.0889 - val_accuracy: 0.2873\n",
            "Epoch 10/50\n",
            "3096/3096 [==============================] - 13s 4ms/step - loss: 0.0718 - accuracy: 0.2999 - val_loss: 0.0878 - val_accuracy: 0.2803\n",
            "Epoch 11/50\n",
            "3096/3096 [==============================] - 13s 4ms/step - loss: 0.0714 - accuracy: 0.3003 - val_loss: 0.0881 - val_accuracy: 0.2744\n",
            "Epoch 12/50\n",
            "3096/3096 [==============================] - 13s 4ms/step - loss: 0.0710 - accuracy: 0.2994 - val_loss: 0.0891 - val_accuracy: 0.2875\n",
            "Epoch 13/50\n",
            "3096/3096 [==============================] - 13s 4ms/step - loss: 0.0707 - accuracy: 0.3006 - val_loss: 0.0880 - val_accuracy: 0.2776\n",
            "Epoch 14/50\n",
            "3096/3096 [==============================] - 12s 4ms/step - loss: 0.0705 - accuracy: 0.3005 - val_loss: 0.0877 - val_accuracy: 0.2882\n",
            "Epoch 15/50\n",
            "3096/3096 [==============================] - 13s 4ms/step - loss: 0.0703 - accuracy: 0.3014 - val_loss: 0.0880 - val_accuracy: 0.2934\n",
            "Epoch 16/50\n",
            "3096/3096 [==============================] - 12s 4ms/step - loss: 0.0701 - accuracy: 0.3017 - val_loss: 0.0878 - val_accuracy: 0.2909\n",
            "Epoch 17/50\n",
            "3096/3096 [==============================] - 14s 4ms/step - loss: 0.0699 - accuracy: 0.3019 - val_loss: 0.0885 - val_accuracy: 0.2803\n",
            "Epoch 18/50\n",
            "3096/3096 [==============================] - 13s 4ms/step - loss: 0.0698 - accuracy: 0.3023 - val_loss: 0.0878 - val_accuracy: 0.2920\n",
            "Epoch 19/50\n",
            "3096/3096 [==============================] - 12s 4ms/step - loss: 0.0697 - accuracy: 0.3020 - val_loss: 0.0882 - val_accuracy: 0.2901\n",
            "Epoch 20/50\n",
            "3096/3096 [==============================] - 13s 4ms/step - loss: 0.0696 - accuracy: 0.3024 - val_loss: 0.0875 - val_accuracy: 0.2907\n",
            "Epoch 21/50\n",
            "3096/3096 [==============================] - 13s 4ms/step - loss: 0.0695 - accuracy: 0.3038 - val_loss: 0.0873 - val_accuracy: 0.2892\n",
            "Epoch 22/50\n",
            "3096/3096 [==============================] - 13s 4ms/step - loss: 0.0695 - accuracy: 0.3024 - val_loss: 0.0879 - val_accuracy: 0.2885\n",
            "Epoch 23/50\n",
            "3096/3096 [==============================] - 13s 4ms/step - loss: 0.0694 - accuracy: 0.3034 - val_loss: 0.0879 - val_accuracy: 0.2838\n",
            "Epoch 24/50\n",
            "3096/3096 [==============================] - 12s 4ms/step - loss: 0.0694 - accuracy: 0.3045 - val_loss: 0.0878 - val_accuracy: 0.2875\n",
            "Epoch 25/50\n",
            "3096/3096 [==============================] - 12s 4ms/step - loss: 0.0693 - accuracy: 0.3049 - val_loss: 0.0872 - val_accuracy: 0.2879\n",
            "Epoch 26/50\n",
            "3096/3096 [==============================] - 13s 4ms/step - loss: 0.0693 - accuracy: 0.3054 - val_loss: 0.0874 - val_accuracy: 0.2791\n",
            "Epoch 27/50\n",
            "3096/3096 [==============================] - 12s 4ms/step - loss: 0.0693 - accuracy: 0.3042 - val_loss: 0.0870 - val_accuracy: 0.2968\n",
            "Epoch 28/50\n",
            "3096/3096 [==============================] - 13s 4ms/step - loss: 0.0694 - accuracy: 0.3060 - val_loss: 0.0882 - val_accuracy: 0.2887\n",
            "Epoch 29/50\n",
            "3096/3096 [==============================] - 13s 4ms/step - loss: 0.0694 - accuracy: 0.3056 - val_loss: 0.0880 - val_accuracy: 0.2879\n",
            "Epoch 30/50\n",
            "3096/3096 [==============================] - 13s 4ms/step - loss: 0.0693 - accuracy: 0.3051 - val_loss: 0.0871 - val_accuracy: 0.2850\n",
            "Epoch 31/50\n",
            "3096/3096 [==============================] - 13s 4ms/step - loss: 0.0694 - accuracy: 0.3050 - val_loss: 0.0882 - val_accuracy: 0.2944\n",
            "Epoch 32/50\n",
            "3096/3096 [==============================] - 12s 4ms/step - loss: 0.0694 - accuracy: 0.3047 - val_loss: 0.0877 - val_accuracy: 0.2869\n",
            "Epoch 33/50\n",
            "3096/3096 [==============================] - 13s 4ms/step - loss: 0.0694 - accuracy: 0.3056 - val_loss: 0.0887 - val_accuracy: 0.2900\n",
            "Epoch 34/50\n",
            "3096/3096 [==============================] - 13s 4ms/step - loss: 0.0695 - accuracy: 0.3040 - val_loss: 0.0872 - val_accuracy: 0.2953\n",
            "Epoch 35/50\n",
            "3096/3096 [==============================] - 12s 4ms/step - loss: 0.0695 - accuracy: 0.3043 - val_loss: 0.0881 - val_accuracy: 0.2831\n"
          ],
          "name": "stdout"
        }
      ]
    },
    {
      "cell_type": "code",
      "metadata": {
        "id": "PAChggX0gdWY"
      },
      "source": [
        "def plot_history(history):\n",
        "\n",
        "    fig, axs = plt.subplots()\n",
        "\n",
        "    \"\"\"# create the accuracy subplot\n",
        "    axs[0].plot(history.history[\"accuracy\"], label = \"train accuracy\")\n",
        "    axs[0].plot(history.history[\"val_accuracy\"], label = \"test accuracy\")\n",
        "    axs[0].set_ylabel('Accuracy')\n",
        "    axs[0].set_xlabel(\"Epoch\")\n",
        "    axs[0].legend(loc =\"lower right\")\n",
        "    axs[0].set_title(\"Accuracy eval\")\"\"\"\n",
        "\n",
        "    # create the error subplot\n",
        "    axs.plot(history.history[\"loss\"], label=\"train error\")\n",
        "    axs.plot(history.history[\"val_loss\"], label=\"test error\")\n",
        "    axs.set_ylabel('Error')\n",
        "    axs.set_xlabel(\"Epoch\")\n",
        "    axs.legend(loc=\"upper right\")\n",
        "    axs.set_title(\"Error eval\")\n",
        "\n",
        "    plt.show()"
      ],
      "execution_count": 16,
      "outputs": []
    },
    {
      "cell_type": "code",
      "metadata": {
        "colab": {
          "base_uri": "https://localhost:8080/",
          "height": 295
        },
        "id": "IW8fQPj7mXw9",
        "outputId": "b5199110-3def-41ea-f4ab-2724a4b1e4ab"
      },
      "source": [
        "plot_history(history)"
      ],
      "execution_count": 17,
      "outputs": [
        {
          "output_type": "display_data",
          "data": {
            "image/png": "[encoded data removed]",
            "text/plain": [
              "<Figure size 432x288 with 1 Axes>"
            ]
          },
          "metadata": {
            "tags": [],
            "needs_background": "light"
          }
        }
      ]
    },
    {
      "cell_type": "code",
      "metadata": {
        "colab": {
          "base_uri": "https://localhost:8080/"
        },
        "id": "v4kwio6-hVcp",
        "outputId": "a9da7eab-0ea5-4731-baec-0e9daa0b3f65"
      },
      "source": [
        "pred = model.predict(X_val)\n",
        "print(pred.shape)"
      ],
      "execution_count": 18,
      "outputs": [
        {
          "output_type": "stream",
          "text": [
            "(503400, 88)\n"
          ],
          "name": "stdout"
        }
      ]
    },
    {
      "cell_type": "code",
      "metadata": {
        "id": "EfcbxH4KheTs"
      },
      "source": [
        "pred = pred>=0.5\n",
        "pred = pred-0.0"
      ],
      "execution_count": 19,
      "outputs": []
    },
    {
      "cell_type": "code",
      "metadata": {
        "id": "hbagAozwgZmP"
      },
      "source": [
        "true_positives = 0\n",
        "false_positives = 0\n",
        "false_negatives = 0\n",
        "\n",
        "for j in range(pred.shape[0]):\n",
        "  for k in range(pred.shape[1]):\n",
        "    if y_val[j][k] == 1.0 and pred[j][k] == 1.0:\n",
        "        true_positives+=1                                \n",
        "    elif y_val[j][k] == 1.0 and pred[j][k] == 0.0:\n",
        "        false_negatives+=1\n",
        "    elif y_val[j][k] == 0.0 and pred[j][k] == 1.0:\n",
        "        false_positives+=1\n",
        "accuracy = (true_positives/(true_positives+false_positives+false_negatives))\n",
        "precision = true_positives/(true_positives+false_positives)\n",
        "recall = true_positives/(true_positives+false_negatives)\n",
        "fscore = (2*precision*recall)/(precision+recall)\n"
      ],
      "execution_count": 20,
      "outputs": []
    },
    {
      "cell_type": "code",
      "metadata": {
        "colab": {
          "base_uri": "https://localhost:8080/"
        },
        "id": "_xD-h9uahzeE",
        "outputId": "e8a41c50-5ec1-4001-d22d-fccfdb5ff347"
      },
      "source": [
        "print(accuracy, precision, recall, fscore)"
      ],
      "execution_count": 21,
      "outputs": [
        {
          "output_type": "stream",
          "text": [
            "0.4751894833203505 0.7534335316693712 0.5626934522950728 0.6442419617184308\n"
          ],
          "name": "stdout"
        }
      ]
    },
    {
      "cell_type": "code",
      "metadata": {
        "id": "53qzU1-F-lBl"
      },
      "source": [
        "model.save(\"dnn_trained.h5\")"
      ],
      "execution_count": 22,
      "outputs": []
    }
  ]
}