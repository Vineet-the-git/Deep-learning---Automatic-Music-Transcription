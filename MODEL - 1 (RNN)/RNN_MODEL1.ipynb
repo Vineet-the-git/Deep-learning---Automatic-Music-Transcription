{
 "cells": [
  {
   "cell_type": "code",
   "execution_count": 1,
   "id": "f19a282c-1078-4e99-a172-723c35381167",
   "metadata": {},
   "outputs": [],
   "source": [
    "import numpy as np\n",
    "from sklearn.model_selection import train_test_split\n",
    "import tensorflow.keras as keras\n",
    "import matplotlib.pyplot as plt\n",
    "import tensorflow as tf"
   ]
  },
  {
   "cell_type": "code",
   "execution_count": 2,
   "id": "6ffd1747-c68d-43f1-a0e8-4deee2ad11d3",
   "metadata": {},
   "outputs": [],
   "source": [
    "mini_batch_size, num_epochs = 100, 30\n",
    "input_size = 252\n",
    "number_units = 256\n",
    "number_layers =3\n",
    "output_size = 88\n",
    "size_samples = 100"
   ]
  },
  {
   "cell_type": "code",
   "execution_count": 3,
   "id": "e30478cb-2ae7-4ca9-bd9e-b090fb2f21bc",
   "metadata": {},
   "outputs": [],
   "source": [
    "# path to numpy files for data\n",
    "X_train = np.load(\"X_NEW.npy\")\n",
    "y_train = np.load(\"y_NEW.npy\")\n",
    "\n",
    "X_val = np.load(\"X_val_NEW.npy\")\n",
    "y_val = np.load(\"y_val_NEW.npy\")"
   ]
  },
  {
   "cell_type": "code",
   "execution_count": 4,
   "id": "99e00785-cfa4-48a6-95f6-d0f14bbf8680",
   "metadata": {},
   "outputs": [
    {
     "name": "stdout",
     "output_type": "stream",
     "text": [
      "(9322, 100, 252) (9322, 100, 88) (2244, 100, 252) (2244, 100, 88)\n"
     ]
    }
   ],
   "source": [
    "print(X_train.shape,y_train.shape,X_val.shape,y_val.shape)"
   ]
  },
  {
   "cell_type": "code",
   "execution_count": 5,
   "id": "9b70b705-0b9d-4e79-bd49-684869131531",
   "metadata": {},
   "outputs": [],
   "source": [
    "# build model\n",
    "def build_model():\n",
    "    # create a model\n",
    "    # generate a rnn lstm model\n",
    "    \n",
    "    model = keras.Sequential()\n",
    "    \n",
    "    # 1st LSTM layer\n",
    "    model.add(keras.layers.LSTM(256,\n",
    "                                input_shape=(size_samples,input_size),\n",
    "                                return_sequences = True,\n",
    "                                kernel_initializer = 'normal',\n",
    "                                activation = 'tanh'))\n",
    "    model.add(keras.layers.Dropout(0.2))\n",
    "    \n",
    "    # 2nd LSTM layer\n",
    "    model.add(keras.layers.LSTM(256,\n",
    "                                input_shape=(size_samples,input_size),\n",
    "                                return_sequences = True,\n",
    "                                kernel_initializer = 'normal',\n",
    "                                activation = 'tanh'))\n",
    "    model.add(keras.layers.Dropout(0.2))\n",
    "    \n",
    "    # 3rd LSTM layer\n",
    "    model.add(keras.layers.LSTM(256,\n",
    "                                input_shape=(size_samples,input_size),\n",
    "                                return_sequences = True,\n",
    "                                kernel_initializer = 'normal',\n",
    "                                activation = 'tanh'))\n",
    "    model.add(keras.layers.Dropout(0.2))\n",
    "    \n",
    "    #output using dense layer\n",
    "    \n",
    "    model.add(keras.layers.Dense(output_size,\n",
    "                                 kernel_initializer = \"normal\",\n",
    "                                 activation = \"sigmoid\"))\n",
    "    \n",
    "    return model"
   ]
  },
  {
   "cell_type": "code",
   "execution_count": 6,
   "id": "ec2a8ee2-030c-4838-b1aa-34115a60e5a3",
   "metadata": {},
   "outputs": [],
   "source": [
    "model = build_model()"
   ]
  },
  {
   "cell_type": "code",
   "execution_count": 7,
   "id": "cf97d201-4db4-487f-b4a6-5296b0df0200",
   "metadata": {},
   "outputs": [],
   "source": [
    "def plot_history(history):\n",
    "\n",
    "    fig, axs = plt.subplots(2)\n",
    "\n",
    "    # create the accuracy subplot\n",
    "    axs[0].plot(history.history[\"accuracy\"], label = \"train accuracy\")\n",
    "    axs[0].plot(history.history[\"val_accuracy\"], label = \"test accuracy\")\n",
    "    axs[0].set_ylabel('Accuracy')\n",
    "    axs[0].set_xlabel(\"Epoch\")\n",
    "    axs[0].legend(loc =\"lower right\")\n",
    "    axs[0].set_title(\"Accuracy eval\")\n",
    "\n",
    "    # create the error subplot\n",
    "    axs[1].plot(history.history[\"loss\"], label=\"train error\")\n",
    "    axs[1].plot(history.history[\"val_loss\"], label=\"test error\")\n",
    "    axs[1].set_ylabel('Error')\n",
    "    axs[1].set_xlabel(\"Epoch\")\n",
    "    axs[1].legend(loc=\"upper right\")\n",
    "    axs[1].set_title(\"Error eval\")\n",
    "\n",
    "    plt.show()"
   ]
  },
  {
   "cell_type": "code",
   "execution_count": 8,
   "id": "cb29e964-03a4-42f8-b550-9c77878f9db6",
   "metadata": {},
   "outputs": [],
   "source": [
    "# compile the network\n",
    "optimizer = keras.optimizers.Adam(learning_rate=0.01)\n",
    "model.compile(optimizer=optimizer, loss = \"binary_crossentropy\",\n",
    "             metrics = [\"accuracy\"])"
   ]
  },
  {
   "cell_type": "code",
   "execution_count": 9,
   "id": "092029d3-0957-4489-af6e-629237ed6535",
   "metadata": {},
   "outputs": [
    {
     "name": "stdout",
     "output_type": "stream",
     "text": [
      "Epoch 1/30\n",
      "292/292 [==============================] - 19s 50ms/step - loss: 0.1907 - accuracy: 0.0191 - val_loss: 0.1725 - val_accuracy: 0.0120\n",
      "Epoch 2/30\n",
      "292/292 [==============================] - 13s 46ms/step - loss: 0.1857 - accuracy: 0.0187 - val_loss: 0.1700 - val_accuracy: 0.0086\n",
      "Epoch 3/30\n",
      "292/292 [==============================] - 13s 46ms/step - loss: 0.1855 - accuracy: 0.0181 - val_loss: 0.1713 - val_accuracy: 0.0086\n",
      "Epoch 4/30\n",
      "292/292 [==============================] - 14s 46ms/step - loss: 0.1852 - accuracy: 0.0217 - val_loss: 0.1642 - val_accuracy: 0.0154\n",
      "Epoch 5/30\n",
      "292/292 [==============================] - 13s 46ms/step - loss: 0.1854 - accuracy: 0.0219 - val_loss: 0.1683 - val_accuracy: 0.0487\n",
      "Epoch 6/30\n",
      "292/292 [==============================] - 13s 46ms/step - loss: 0.1853 - accuracy: 0.0198 - val_loss: 0.1692 - val_accuracy: 0.0076\n",
      "Epoch 7/30\n",
      "292/292 [==============================] - 13s 46ms/step - loss: 0.1851 - accuracy: 0.0197 - val_loss: 0.1734 - val_accuracy: 0.0203\n",
      "Epoch 8/30\n",
      "292/292 [==============================] - 13s 46ms/step - loss: 0.1853 - accuracy: 0.0213 - val_loss: 0.1697 - val_accuracy: 0.0205\n",
      "Epoch 9/30\n",
      "292/292 [==============================] - 13s 46ms/step - loss: 0.1849 - accuracy: 0.0200 - val_loss: 0.1759 - val_accuracy: 0.0271\n",
      "Epoch 10/30\n",
      "292/292 [==============================] - 13s 46ms/step - loss: 0.1854 - accuracy: 0.0216 - val_loss: 0.1676 - val_accuracy: 0.0052\n",
      "Epoch 11/30\n",
      "292/292 [==============================] - 13s 46ms/step - loss: 0.1851 - accuracy: 0.0190 - val_loss: 0.1660 - val_accuracy: 0.0250\n",
      "Epoch 12/30\n",
      "292/292 [==============================] - 13s 46ms/step - loss: 0.1850 - accuracy: 0.0222 - val_loss: 0.1714 - val_accuracy: 0.0077\n",
      "Epoch 13/30\n",
      "292/292 [==============================] - 13s 46ms/step - loss: 0.1855 - accuracy: 0.0214 - val_loss: 0.1679 - val_accuracy: 0.0168\n",
      "Epoch 14/30\n",
      "292/292 [==============================] - 13s 46ms/step - loss: 0.1821 - accuracy: 0.0284 - val_loss: 0.1622 - val_accuracy: 0.0192\n",
      "Epoch 15/30\n",
      "292/292 [==============================] - 13s 46ms/step - loss: 0.1789 - accuracy: 0.0318 - val_loss: 0.1652 - val_accuracy: 0.0195\n",
      "Epoch 16/30\n",
      "292/292 [==============================] - 13s 46ms/step - loss: 0.1783 - accuracy: 0.0334 - val_loss: 0.1657 - val_accuracy: 0.0132\n",
      "Epoch 17/30\n",
      "292/292 [==============================] - 13s 46ms/step - loss: 0.1722 - accuracy: 0.0440 - val_loss: 0.1521 - val_accuracy: 0.0311\n",
      "Epoch 18/30\n",
      "292/292 [==============================] - 13s 46ms/step - loss: 0.1584 - accuracy: 0.0750 - val_loss: 0.1318 - val_accuracy: 0.1012\n",
      "Epoch 19/30\n",
      "292/292 [==============================] - 13s 46ms/step - loss: 0.1434 - accuracy: 0.1262 - val_loss: 0.1218 - val_accuracy: 0.1454\n",
      "Epoch 20/30\n",
      "292/292 [==============================] - 13s 46ms/step - loss: 0.1331 - accuracy: 0.1529 - val_loss: 0.1171 - val_accuracy: 0.1497\n",
      "Epoch 21/30\n",
      "292/292 [==============================] - 13s 46ms/step - loss: 0.1257 - accuracy: 0.1763 - val_loss: 0.1136 - val_accuracy: 0.2086\n",
      "Epoch 22/30\n",
      "292/292 [==============================] - 13s 46ms/step - loss: 0.1203 - accuracy: 0.1932 - val_loss: 0.1090 - val_accuracy: 0.2387\n",
      "Epoch 23/30\n",
      "292/292 [==============================] - 13s 46ms/step - loss: 0.1162 - accuracy: 0.2071 - val_loss: 0.1097 - val_accuracy: 0.1994\n",
      "Epoch 24/30\n",
      "292/292 [==============================] - 13s 46ms/step - loss: 0.1128 - accuracy: 0.2138 - val_loss: 0.1069 - val_accuracy: 0.2610\n",
      "Epoch 25/30\n",
      "292/292 [==============================] - 13s 46ms/step - loss: 0.1097 - accuracy: 0.2251 - val_loss: 0.1053 - val_accuracy: 0.2347\n",
      "Epoch 26/30\n",
      "292/292 [==============================] - 13s 46ms/step - loss: 0.1074 - accuracy: 0.2311 - val_loss: 0.1041 - val_accuracy: 0.2474\n",
      "Epoch 27/30\n",
      "292/292 [==============================] - 13s 46ms/step - loss: 0.1049 - accuracy: 0.2352 - val_loss: 0.1021 - val_accuracy: 0.2675\n",
      "Epoch 28/30\n",
      "292/292 [==============================] - 13s 46ms/step - loss: 0.1025 - accuracy: 0.2439 - val_loss: 0.1021 - val_accuracy: 0.2838\n",
      "Epoch 29/30\n",
      "292/292 [==============================] - 13s 46ms/step - loss: 0.1010 - accuracy: 0.2495 - val_loss: 0.1041 - val_accuracy: 0.2697\n",
      "Epoch 30/30\n",
      "292/292 [==============================] - 13s 46ms/step - loss: 0.0990 - accuracy: 0.2530 - val_loss: 0.1023 - val_accuracy: 0.2951\n"
     ]
    }
   ],
   "source": [
    "# train the rnn\n",
    "history = model.fit(X_train,y_train,\n",
    "          validation_data=(X_val,y_val),\n",
    "          validation_batch_size=mini_batch_size,\n",
    "          verbose = True,\n",
    "          epochs = num_epochs\n",
    "          )"
   ]
  },
  {
   "cell_type": "code",
   "execution_count": 10,
   "id": "45c449c8-f3be-4df0-9356-8f93dc500ee8",
   "metadata": {},
   "outputs": [
    {
     "data": {
      "image/png": "[encoded data removed]",
      "text/plain": [
       "<Figure size 432x288 with 2 Axes>"
      ]
     },
     "metadata": {
      "needs_background": "light"
     },
     "output_type": "display_data"
    }
   ],
   "source": [
    "plot_history(history)"
   ]
  },
  {
   "cell_type": "code",
   "execution_count": 11,
   "id": "2f45ad8f-146c-4a06-a572-42e65a97d14c",
   "metadata": {},
   "outputs": [
    {
     "name": "stdout",
     "output_type": "stream",
     "text": [
      "Model: \"sequential\"\n",
      "_________________________________________________________________\n",
      "Layer (type)                 Output Shape              Param #   \n",
      "=================================================================\n",
      "lstm (LSTM)                  (None, 100, 256)          521216    \n",
      "_________________________________________________________________\n",
      "dropout (Dropout)            (None, 100, 256)          0         \n",
      "_________________________________________________________________\n",
      "lstm_1 (LSTM)                (None, 100, 256)          525312    \n",
      "_________________________________________________________________\n",
      "dropout_1 (Dropout)          (None, 100, 256)          0         \n",
      "_________________________________________________________________\n",
      "lstm_2 (LSTM)                (None, 100, 256)          525312    \n",
      "_________________________________________________________________\n",
      "dropout_2 (Dropout)          (None, 100, 256)          0         \n",
      "_________________________________________________________________\n",
      "dense (Dense)                (None, 100, 88)           22616     \n",
      "=================================================================\n",
      "Total params: 1,594,456\n",
      "Trainable params: 1,594,456\n",
      "Non-trainable params: 0\n",
      "_________________________________________________________________\n"
     ]
    }
   ],
   "source": [
    "model.summary()"
   ]
  }
 ],
 "metadata": {
  "kernelspec": {
   "display_name": "Python 3",
   "language": "python",
   "name": "python3"
  },
  "language_info": {
   "codemirror_mode": {
    "name": "ipython",
    "version": 3
   },
   "file_extension": ".py",
   "mimetype": "text/x-python",
   "name": "python",
   "nbconvert_exporter": "python",
   "pygments_lexer": "ipython3",
   "version": "3.9.5"
  }
 },
 "nbformat": 4,
 "nbformat_minor": 5
}
