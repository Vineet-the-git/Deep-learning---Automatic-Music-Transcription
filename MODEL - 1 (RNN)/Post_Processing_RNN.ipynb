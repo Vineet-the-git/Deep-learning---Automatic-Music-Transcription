{
  "nbformat": 4,
  "nbformat_minor": 0,
  "metadata": {
    "colab": {
      "name": "Post Processing RNN.ipynb",
      "provenance": [],
      "collapsed_sections": []
    },
    "kernelspec": {
      "name": "python3",
      "display_name": "Python 3"
    },
    "language_info": {
      "name": "python"
    }
  },
  "cells": [
    {
      "cell_type": "code",
      "metadata": {
        "id": "xrtoIzYNb-zw",
        "colab": {
          "base_uri": "https://localhost:8080/"
        },
        "outputId": "4cb5891a-58f3-4f22-b8e6-e69677f22633"
      },
      "source": [
        "import numpy as np\n",
        "arr = np.load('MAPS.npy')\n",
        "print(arr)\n",
        "print(np.shape(arr))"
      ],
      "execution_count": null,
      "outputs": [
        {
          "output_type": "stream",
          "text": [
            "[[False False False ... False False False]\n",
            " [False False False ... False False False]\n",
            " [False False False ... False False False]\n",
            " ...\n",
            " [False False False ... False False False]\n",
            " [False False False ... False False False]\n",
            " [False False False ... False False False]]\n",
            "(20426, 88)\n"
          ],
          "name": "stdout"
        }
      ]
    },
    {
      "cell_type": "code",
      "metadata": {
        "id": "81Yye6mdinVJ",
        "colab": {
          "base_uri": "https://localhost:8080/"
        },
        "outputId": "96de1624-df93-4a86-fe03-1b6cb0309a7f"
      },
      "source": [
        "arr2 = np.empty((20426, 88), dtype = int) \n",
        "for i in range(arr.shape[0]):\n",
        "    for j in range(arr.shape[1]):\n",
        "        if arr[i,j]==False:\n",
        "            arr2[i,j]=int(0)\n",
        "            int(arr2[i,j])\n",
        "        elif arr[i,j]==True:\n",
        "            arr2[i,j]=int(1)\n",
        "\n",
        "         \n",
        "print(arr2)"
      ],
      "execution_count": null,
      "outputs": [
        {
          "output_type": "stream",
          "text": [
            "[[0 0 0 ... 0 0 0]\n",
            " [0 0 0 ... 0 0 0]\n",
            " [0 0 0 ... 0 0 0]\n",
            " ...\n",
            " [0 0 0 ... 0 0 0]\n",
            " [0 0 0 ... 0 0 0]\n",
            " [0 0 0 ... 0 0 0]]\n"
          ],
          "name": "stdout"
        }
      ]
    },
    {
      "cell_type": "code",
      "metadata": {
        "id": "KME19eSeiWDU",
        "colab": {
          "base_uri": "https://localhost:8080/"
        },
        "outputId": "f1503d47-bba9-45d4-d3d6-bb1629034b66"
      },
      "source": [
        "!pip install midiutil"
      ],
      "execution_count": null,
      "outputs": [
        {
          "output_type": "stream",
          "text": [
            "Requirement already satisfied: midiutil in /usr/local/lib/python3.7/dist-packages (1.2.1)\n"
          ],
          "name": "stdout"
        }
      ]
    },
    {
      "cell_type": "code",
      "metadata": {
        "id": "kmgy2rXIf9QM"
      },
      "source": [
        "from midiutil.MidiFile import MIDIFile\n",
        "\n",
        "mf = MIDIFile(1)\n",
        "track = 0   \n",
        "time = 0\n",
        "delta = 0.000005\n",
        "mf.addTrackName(track, time, \"Output\")\n",
        "mf.addTempo(track, time, 120)\n",
        "\n",
        "channel = 0\n",
        "volume = 100\n",
        "duration = 0.01 \n",
        "\n",
        "for i in range(arr2.shape[0]):\n",
        "    time=time + i*delta\n",
        "    for j in range(arr2.shape[1]):\n",
        "        if arr[i,j] == 1:\n",
        "            pitch = j\n",
        "            mf.addNote(track, channel, pitch, time, duration, volume)\n",
        "\n",
        "with open(\"output.mid\", 'wb') as outf:\n",
        "    mf.writeFile(outf)"
      ],
      "execution_count": null,
      "outputs": []
    },
    {
      "cell_type": "code",
      "metadata": {
        "id": "nuw7Jf4jiUh5",
        "colab": {
          "base_uri": "https://localhost:8080/"
        },
        "outputId": "c5830ce5-8e65-435e-bf84-6bc2397d4243"
      },
      "source": [
        "!pip install pretty_midi"
      ],
      "execution_count": null,
      "outputs": [
        {
          "output_type": "stream",
          "text": [
            "Requirement already satisfied: pretty_midi in /usr/local/lib/python3.7/dist-packages (0.2.9)\n",
            "Requirement already satisfied: numpy>=1.7.0 in /usr/local/lib/python3.7/dist-packages (from pretty_midi) (1.19.5)\n",
            "Requirement already satisfied: six in /usr/local/lib/python3.7/dist-packages (from pretty_midi) (1.15.0)\n",
            "Requirement already satisfied: mido>=1.1.16 in /usr/local/lib/python3.7/dist-packages (from pretty_midi) (1.2.10)\n"
          ],
          "name": "stdout"
        }
      ]
    },
    {
      "cell_type": "code",
      "metadata": {
        "id": "Ld54zHVciB9B",
        "colab": {
          "base_uri": "https://localhost:8080/"
        },
        "outputId": "8dfbc7bf-8b7e-4460-f225-890384df381a"
      },
      "source": [
        "import pretty_midi\n",
        "import pandas as pd\n",
        "path = \"output.mid\"\n",
        "midi_data = pretty_midi.PrettyMIDI(path)\n",
        "midi_list = []\n",
        "\n",
        "pretty_midi.pretty_midi.MAX_TICK = 1e10\n",
        "midi_data.tick_to_time(14325216)\n",
        "\n",
        "for instrument in midi_data.instruments:\n",
        "    for note in instrument.notes:\n",
        "        start = note.start\n",
        "        end = note.end\n",
        "        pitch = note.pitch\n",
        "        velocity = note.velocity\n",
        "        midi_list.append([start, end, pitch, velocity, instrument.name])\n",
        "        \n",
        "midi_list = sorted(midi_list, key=lambda x: (x[0], x[2]))\n",
        "\n",
        "df = pd.DataFrame(midi_list, columns=['Start', 'End', 'Pitch', 'Velocity', 'Instrument'])\n",
        "\n",
        "print(df)"
      ],
      "execution_count": null,
      "outputs": [
        {
          "output_type": "stream",
          "text": [
            "             Start         End  Pitch  Velocity Instrument\n",
            "0         0.002083    0.002604     41       100     Output\n",
            "1         0.002604    0.003125     41       100     Output\n",
            "2         0.003125    0.003646     41       100     Output\n",
            "3         0.003646    0.004167     41       100     Output\n",
            "4         0.004167    0.004687     41       100     Output\n",
            "...            ...         ...    ...       ...        ...\n",
            "108929  520.888542  520.893229     34       100     Output\n",
            "108930  520.888542  520.893229     41       100     Output\n",
            "108931  520.888542  520.893229     49       100     Output\n",
            "108932  520.888542  520.893229     58       100     Output\n",
            "108933  520.888542  520.893229     65       100     Output\n",
            "\n",
            "[108934 rows x 5 columns]\n"
          ],
          "name": "stdout"
        }
      ]
    },
    {
      "cell_type": "code",
      "metadata": {
        "id": "Ty8gjdQz4yS-"
      },
      "source": [
        "import matplotlib\n",
        "import matplotlib.pyplot as plt\n",
        "from matplotlib.patches import Rectangle\n",
        "import numpy as np\n"
      ],
      "execution_count": null,
      "outputs": []
    },
    {
      "cell_type": "code",
      "metadata": {
        "id": "GXi_C32f3IN-",
        "colab": {
          "base_uri": "https://localhost:8080/",
          "height": 265
        },
        "outputId": "b8546295-7342-45cb-96c5-c07ec2f297b1"
      },
      "source": [
        "fig, ax = plt.subplots()\n",
        "\n",
        "i = 0\n",
        "while(i<108934) :\n",
        "    start = float(midi_list[i][0])\n",
        "    pitch = float(midi_list[i][2])\n",
        "    duration = float(midi_list[i][1]-midi_list[i][0])\n",
        "    # if my_reader[i][4]=='Right Hand' :\n",
        "    #     color1 = 'royalblue'\n",
        "    # else :\n",
        "    #     color1 = 'darkorange'\n",
        "    rect = matplotlib.patches.Rectangle((start, pitch),duration, 1, ec='black', linewidth=10)\n",
        "    ax.add_patch(rect)\n",
        "    i+=1\n",
        "    \n",
        "    \n",
        "# plt.xlabel(\"Time (seconds)\", fontsize=150)\n",
        "# plt.ylabel(\"Pitch\", fontsize=150)\n",
        "\n",
        "\n",
        "plt.xlim([0, 550])\n",
        "plt.ylim([0, 88])\n",
        "\n",
        "plt.grid(color='grey',linewidth=1)\n",
        "\n",
        "plt.show()"
      ],
      "execution_count": null,
      "outputs": [
        {
          "output_type": "display_data",
          "data": {
            "image/png": "[encoded data removed]",
            "text/plain": [
              "<Figure size 432x288 with 1 Axes>"
            ]
          },
          "metadata": {
            "tags": [],
            "needs_background": "light"
          }
        }
      ]
    },
    {
      "cell_type": "markdown",
      "metadata": {
        "id": "3_xj5fHG-_7R"
      },
      "source": [
        "ACTUAL"
      ]
    },
    {
      "cell_type": "code",
      "metadata": {
        "colab": {
          "base_uri": "https://localhost:8080/"
        },
        "id": "VdfC_gyX-qz0",
        "outputId": "8ca8049f-062c-48ff-b6df-ee77dc4cc049"
      },
      "source": [
        "import pretty_midi\n",
        "import pandas as pd\n",
        "path = \"MAPS.mid\"\n",
        "midi_data = pretty_midi.PrettyMIDI(path)\n",
        "midi_list = []\n",
        "\n",
        "pretty_midi.pretty_midi.MAX_TICK = 1e10\n",
        "midi_data.tick_to_time(14325216)\n",
        "\n",
        "for instrument in midi_data.instruments:\n",
        "    for note in instrument.notes:\n",
        "        start = note.start\n",
        "        end = note.end\n",
        "        pitch = note.pitch\n",
        "        velocity = note.velocity\n",
        "        midi_list.append([start, end, pitch, velocity, instrument.name])\n",
        "        \n",
        "midi_list = sorted(midi_list, key=lambda x: (x[0], x[2]))\n",
        "\n",
        "df = pd.DataFrame(midi_list, columns=['Start', 'End', 'Pitch', 'Velocity', 'Instrument'])\n",
        "\n",
        "print(df)"
      ],
      "execution_count": null,
      "outputs": [
        {
          "output_type": "stream",
          "text": [
            "           Start         End  Pitch  Velocity Instrument\n",
            "0       0.521985    6.701973     62        74           \n",
            "1       1.379984    2.239995     61        69           \n",
            "2       2.240987    6.702979     60        64           \n",
            "3       3.114985    6.702979     57        61           \n",
            "4       4.021975    6.705983     54        57           \n",
            "...          ...         ...    ...       ...        ...\n",
            "2196  235.487309  236.997300     86       102           \n",
            "2197  235.488301  236.998306     55        79           \n",
            "2198  235.488301  236.997300     70        93           \n",
            "2199  235.488301  236.997300     79        90           \n",
            "2200  235.491305  237.000304     62        79           \n",
            "\n",
            "[2201 rows x 5 columns]\n"
          ],
          "name": "stdout"
        }
      ]
    },
    {
      "cell_type": "code",
      "metadata": {
        "id": "LL4A2vja-wCk"
      },
      "source": [
        "import matplotlib\n",
        "import matplotlib.pyplot as plt\n",
        "from matplotlib.patches import Rectangle\n",
        "import numpy as np"
      ],
      "execution_count": null,
      "outputs": []
    },
    {
      "cell_type": "code",
      "metadata": {
        "colab": {
          "base_uri": "https://localhost:8080/",
          "height": 265
        },
        "id": "f1ypzxtx-0a4",
        "outputId": "8062e4a2-bfa5-4d33-fdb5-1be2ea650a86"
      },
      "source": [
        "fig, ax = plt.subplots()\n",
        "\n",
        "i = 0\n",
        "while(i<2200) :\n",
        "    start = float(midi_list[i][0])\n",
        "    pitch = float(midi_list[i][2])\n",
        "    duration = float(midi_list[i][1]-midi_list[i][0])\n",
        "    # if my_reader[i][4]=='Right Hand' :\n",
        "    #     color1 = 'royalblue'\n",
        "    # else :\n",
        "    #     color1 = 'darkorange'\n",
        "    rect = matplotlib.patches.Rectangle((start, pitch),duration, 1, ec='black', linewidth=10)\n",
        "    ax.add_patch(rect)\n",
        "    i+=1\n",
        "    \n",
        "    \n",
        "# plt.xlabel(\"Time (seconds)\", fontsize=150)\n",
        "# plt.ylabel(\"Pitch\", fontsize=150)\n",
        "\n",
        "\n",
        "plt.xlim([0, 240])\n",
        "plt.ylim([0, 88])\n",
        "\n",
        "plt.grid(color='grey',linewidth=1)\n",
        "\n",
        "plt.show()"
      ],
      "execution_count": null,
      "outputs": [
        {
          "output_type": "display_data",
          "data": {
            "image/png": "[encoded data removed]",
            "text/plain": [
              "<Figure size 432x288 with 1 Axes>"
            ]
          },
          "metadata": {
            "tags": [],
            "needs_background": "light"
          }
        }
      ]
    }
  ]
}