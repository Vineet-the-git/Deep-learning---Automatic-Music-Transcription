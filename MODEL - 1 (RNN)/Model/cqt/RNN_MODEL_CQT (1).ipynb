{
  "nbformat": 4,
  "nbformat_minor": 5,
  "metadata": {
    "colab": {
      "name": "RNN_MODEL_CQT.ipynb",
      "provenance": [],
      "collapsed_sections": []
    },
    "kernelspec": {
      "display_name": "Python 3",
      "language": "python",
      "name": "python3"
    },
    "language_info": {
      "codemirror_mode": {
        "name": "ipython",
        "version": 3
      },
      "file_extension": ".py",
      "mimetype": "text/x-python",
      "name": "python",
      "nbconvert_exporter": "python",
      "pygments_lexer": "ipython3",
      "version": "3.9.5"
    },
    "accelerator": "GPU"
  },
  "cells": [
    {
      "cell_type": "code",
      "metadata": {
        "id": "f19a282c-1078-4e99-a172-723c35381167"
      },
      "source": [
        "import numpy as np\n",
        "from sklearn.model_selection import train_test_split\n",
        "import tensorflow.keras as keras\n",
        "import matplotlib.pyplot as plt\n",
        "import tensorflow as tf"
      ],
      "id": "f19a282c-1078-4e99-a172-723c35381167",
      "execution_count": 1,
      "outputs": []
    },
    {
      "cell_type": "code",
      "metadata": {
        "id": "6ffd1747-c68d-43f1-a0e8-4deee2ad11d3"
      },
      "source": [
        "mini_batch_size, num_epochs = 100, 50\n",
        "input_size = 252\n",
        "number_units = 256\n",
        "number_layers =3\n",
        "output_size = 88\n",
        "size_samples = 100"
      ],
      "id": "6ffd1747-c68d-43f1-a0e8-4deee2ad11d3",
      "execution_count": 2,
      "outputs": []
    },
    {
      "cell_type": "code",
      "metadata": {
        "colab": {
          "base_uri": "https://localhost:8080/"
        },
        "id": "BATxPn70b0Xa",
        "outputId": "f81823d0-e0ec-4f16-9b4c-6f94eba7161a"
      },
      "source": [
        "from google.colab import drive\n",
        "drive.mount('/content/drive')"
      ],
      "id": "BATxPn70b0Xa",
      "execution_count": 3,
      "outputs": [
        {
          "output_type": "stream",
          "text": [
            "Mounted at /content/drive\n"
          ],
          "name": "stdout"
        }
      ]
    },
    {
      "cell_type": "code",
      "metadata": {
        "id": "e30478cb-2ae7-4ca9-bd9e-b090fb2f21bc"
      },
      "source": [
        "# path to numpy files for data\n",
        "X_train = np.load(\"/content/drive/MyDrive/Data/totalCQT3.npy\")\n",
        "y_train = np.load(\"/content/drive/MyDrive/Data/totallabel3.npy\")\n",
        "\n",
        "X_val = np.load(\"/content/drive/MyDrive/Data/totalCQT4.npy\")\n",
        "y_val = np.load(\"/content/drive/MyDrive/Data/totallabel4.npy\")"
      ],
      "id": "e30478cb-2ae7-4ca9-bd9e-b090fb2f21bc",
      "execution_count": 4,
      "outputs": []
    },
    {
      "cell_type": "code",
      "metadata": {
        "id": "99e00785-cfa4-48a6-95f6-d0f14bbf8680",
        "colab": {
          "base_uri": "https://localhost:8080/"
        },
        "outputId": "4e9e92e4-7de0-4382-bd17-54d1034cf534"
      },
      "source": [
        "print(X_train.shape,y_train.shape,X_val.shape,y_val.shape)"
      ],
      "id": "99e00785-cfa4-48a6-95f6-d0f14bbf8680",
      "execution_count": 5,
      "outputs": [
        {
          "output_type": "stream",
          "text": [
            "(15850, 100, 252) (15850, 100, 88) (5034, 100, 252) (5034, 100, 88)\n"
          ],
          "name": "stdout"
        }
      ]
    },
    {
      "cell_type": "code",
      "metadata": {
        "id": "9b70b705-0b9d-4e79-bd49-684869131531"
      },
      "source": [
        "# build model\n",
        "def build_model():\n",
        "    # create a model\n",
        "    # generate a rnn lstm model\n",
        "    \n",
        "    model = keras.Sequential()\n",
        "    \n",
        "    # 1st LSTM layer\n",
        "    model.add(keras.layers.LSTM(256,\n",
        "                                input_shape=(None,input_size),\n",
        "                                return_sequences = True,\n",
        "                                kernel_initializer = 'normal',\n",
        "                                activation = 'tanh'))\n",
        "    model.add(keras.layers.Dropout(0.2))\n",
        "    \n",
        "    # 2nd LSTM layer\n",
        "    model.add(keras.layers.LSTM(256,\n",
        "                                input_shape=(None,input_size),\n",
        "                                return_sequences = True,\n",
        "                                kernel_initializer = 'normal',\n",
        "                                activation = 'tanh'))\n",
        "    model.add(keras.layers.Dropout(0.2))\n",
        "    \n",
        "    # 3rd LSTM layer\n",
        "    model.add(keras.layers.LSTM(256,\n",
        "                                input_shape=(None,input_size),\n",
        "                                return_sequences = True,\n",
        "                                kernel_initializer = 'normal',\n",
        "                                activation = 'tanh'))\n",
        "    model.add(keras.layers.Dropout(0.2))\n",
        "    \n",
        "    #output using dense layer\n",
        "    \n",
        "    model.add(keras.layers.Dense(output_size,\n",
        "                                 kernel_initializer = \"normal\",\n",
        "                                 activation = \"sigmoid\"))\n",
        "    \n",
        "    return model"
      ],
      "id": "9b70b705-0b9d-4e79-bd49-684869131531",
      "execution_count": 6,
      "outputs": []
    },
    {
      "cell_type": "code",
      "metadata": {
        "id": "ec2a8ee2-030c-4838-b1aa-34115a60e5a3"
      },
      "source": [
        "model = build_model()"
      ],
      "id": "ec2a8ee2-030c-4838-b1aa-34115a60e5a3",
      "execution_count": 7,
      "outputs": []
    },
    {
      "cell_type": "code",
      "metadata": {
        "id": "cf97d201-4db4-487f-b4a6-5296b0df0200"
      },
      "source": [
        "def plot_history(history):\n",
        "\n",
        "    fig, axs = plt.subplots(2)\n",
        "\n",
        "    # create the accuracy subplot\n",
        "    axs[0].plot(history.history[\"accuracy\"], label = \"train accuracy\")\n",
        "    axs[0].plot(history.history[\"val_accuracy\"], label = \"test accuracy\")\n",
        "    axs[0].set_ylabel('Accuracy')\n",
        "    axs[0].set_xlabel(\"Epoch\")\n",
        "    axs[0].legend(loc =\"lower right\")\n",
        "    axs[0].set_title(\"Accuracy eval\")\n",
        "\n",
        "    # create the error subplot\n",
        "    axs[1].plot(history.history[\"loss\"], label=\"train error\")\n",
        "    axs[1].plot(history.history[\"val_loss\"], label=\"test error\")\n",
        "    axs[1].set_ylabel('Error')\n",
        "    axs[1].set_xlabel(\"Epoch\")\n",
        "    axs[1].legend(loc=\"upper right\")\n",
        "    axs[1].set_title(\"Error eval\")\n",
        "\n",
        "    plt.show()"
      ],
      "id": "cf97d201-4db4-487f-b4a6-5296b0df0200",
      "execution_count": 8,
      "outputs": []
    },
    {
      "cell_type": "code",
      "metadata": {
        "id": "cb29e964-03a4-42f8-b550-9c77878f9db6"
      },
      "source": [
        "# compile the network\n",
        "optimizer = keras.optimizers.Adam(learning_rate=0.01)\n",
        "model.compile(optimizer=optimizer, loss = \"binary_crossentropy\")"
      ],
      "id": "cb29e964-03a4-42f8-b550-9c77878f9db6",
      "execution_count": 9,
      "outputs": []
    },
    {
      "cell_type": "code",
      "metadata": {
        "colab": {
          "base_uri": "https://localhost:8080/"
        },
        "id": "092029d3-0957-4489-af6e-629237ed6535",
        "outputId": "1689c5f1-af47-4392-cc8f-ff3b042af173"
      },
      "source": [
        "# train the rnn\n",
        "import timeit\n",
        "start = timeit.default_timer()\n",
        "history = model.fit(X_train,y_train,\n",
        "          validation_data=(X_val,y_val),\n",
        "          validation_batch_size=mini_batch_size,\n",
        "          verbose = True,\n",
        "          epochs = num_epochs\n",
        "          )\n",
        "end = timeit.default_timer()\n",
        "print(\"Time Taken - \" + str(end-start))"
      ],
      "id": "092029d3-0957-4489-af6e-629237ed6535",
      "execution_count": 11,
      "outputs": [
        {
          "output_type": "stream",
          "text": [
            "Epoch 1/50\n",
            "496/496 [==============================] - 14s 27ms/step - loss: 0.1742 - val_loss: 0.1754\n",
            "Epoch 2/50\n",
            "496/496 [==============================] - 13s 27ms/step - loss: 0.1733 - val_loss: 0.1677\n",
            "Epoch 3/50\n",
            "496/496 [==============================] - 13s 27ms/step - loss: 0.1668 - val_loss: 0.1644\n",
            "Epoch 4/50\n",
            "496/496 [==============================] - 13s 26ms/step - loss: 0.1658 - val_loss: 0.1625\n",
            "Epoch 5/50\n",
            "496/496 [==============================] - 13s 26ms/step - loss: 0.1653 - val_loss: 0.1624\n",
            "Epoch 6/50\n",
            "496/496 [==============================] - 13s 27ms/step - loss: 0.1638 - val_loss: 0.1536\n",
            "Epoch 7/50\n",
            "496/496 [==============================] - 13s 27ms/step - loss: 0.1353 - val_loss: 0.1200\n",
            "Epoch 8/50\n",
            "496/496 [==============================] - 13s 27ms/step - loss: 0.1132 - val_loss: 0.1100\n",
            "Epoch 9/50\n",
            "496/496 [==============================] - 13s 27ms/step - loss: 0.1015 - val_loss: 0.1048\n",
            "Epoch 10/50\n",
            "496/496 [==============================] - 13s 27ms/step - loss: 0.0933 - val_loss: 0.1008\n",
            "Epoch 11/50\n",
            "496/496 [==============================] - 13s 27ms/step - loss: 0.0872 - val_loss: 0.0988\n",
            "Epoch 12/50\n",
            "496/496 [==============================] - 13s 27ms/step - loss: 0.0826 - val_loss: 0.0981\n",
            "Epoch 13/50\n",
            "496/496 [==============================] - 13s 27ms/step - loss: 0.0793 - val_loss: 0.0956\n",
            "Epoch 14/50\n",
            "496/496 [==============================] - 13s 27ms/step - loss: 0.0766 - val_loss: 0.0940\n",
            "Epoch 15/50\n",
            "496/496 [==============================] - 13s 27ms/step - loss: 0.0745 - val_loss: 0.0947\n",
            "Epoch 16/50\n",
            "496/496 [==============================] - 13s 27ms/step - loss: 0.0727 - val_loss: 0.0920\n",
            "Epoch 17/50\n",
            "496/496 [==============================] - 13s 27ms/step - loss: 0.0716 - val_loss: 0.0940\n",
            "Epoch 18/50\n",
            "496/496 [==============================] - 13s 27ms/step - loss: 0.0701 - val_loss: 0.0951\n",
            "Epoch 19/50\n",
            "496/496 [==============================] - 13s 27ms/step - loss: 0.0696 - val_loss: 0.0922\n",
            "Epoch 20/50\n",
            "496/496 [==============================] - 13s 27ms/step - loss: 0.0695 - val_loss: 0.0919\n",
            "Epoch 21/50\n",
            "496/496 [==============================] - 13s 27ms/step - loss: 0.0685 - val_loss: 0.0942\n",
            "Epoch 22/50\n",
            "496/496 [==============================] - 13s 27ms/step - loss: 0.0678 - val_loss: 0.0924\n",
            "Epoch 23/50\n",
            "496/496 [==============================] - 13s 27ms/step - loss: 0.0687 - val_loss: 0.0938\n",
            "Epoch 24/50\n",
            "496/496 [==============================] - 13s 27ms/step - loss: 0.0681 - val_loss: 0.0940\n",
            "Epoch 25/50\n",
            "496/496 [==============================] - 13s 27ms/step - loss: 0.0671 - val_loss: 0.0930\n",
            "Epoch 26/50\n",
            "496/496 [==============================] - 13s 27ms/step - loss: 0.0698 - val_loss: 0.0957\n",
            "Epoch 27/50\n",
            "496/496 [==============================] - 13s 27ms/step - loss: 0.0709 - val_loss: 0.0956\n",
            "Epoch 28/50\n",
            "496/496 [==============================] - 13s 27ms/step - loss: 0.0717 - val_loss: 0.0955\n",
            "Epoch 29/50\n",
            "496/496 [==============================] - 13s 27ms/step - loss: 0.0700 - val_loss: 0.0943\n",
            "Epoch 30/50\n",
            "496/496 [==============================] - 13s 27ms/step - loss: 0.0691 - val_loss: 0.0942\n",
            "Epoch 31/50\n",
            "496/496 [==============================] - 13s 27ms/step - loss: 0.0683 - val_loss: 0.0953\n",
            "Epoch 32/50\n",
            "496/496 [==============================] - 13s 26ms/step - loss: 0.0717 - val_loss: 0.0949\n",
            "Epoch 33/50\n",
            "496/496 [==============================] - 13s 27ms/step - loss: 0.0693 - val_loss: 0.0947\n",
            "Epoch 34/50\n",
            "496/496 [==============================] - 13s 27ms/step - loss: 0.0677 - val_loss: 0.0929\n",
            "Epoch 35/50\n",
            "496/496 [==============================] - 13s 26ms/step - loss: 0.0657 - val_loss: 0.0950\n",
            "Epoch 36/50\n",
            "496/496 [==============================] - 13s 26ms/step - loss: 0.0652 - val_loss: 0.0915\n",
            "Epoch 37/50\n",
            "496/496 [==============================] - 13s 27ms/step - loss: 0.0654 - val_loss: 0.0905\n",
            "Epoch 38/50\n",
            "496/496 [==============================] - 13s 27ms/step - loss: 0.0647 - val_loss: 0.0917\n",
            "Epoch 39/50\n",
            "496/496 [==============================] - 13s 27ms/step - loss: 0.0668 - val_loss: 0.0939\n",
            "Epoch 40/50\n",
            "496/496 [==============================] - 13s 27ms/step - loss: 0.0662 - val_loss: 0.0957\n",
            "Epoch 41/50\n",
            "496/496 [==============================] - 13s 26ms/step - loss: 0.0668 - val_loss: 0.0931\n",
            "Epoch 42/50\n",
            "496/496 [==============================] - 13s 27ms/step - loss: 0.0682 - val_loss: 0.0948\n",
            "Epoch 43/50\n",
            "496/496 [==============================] - 13s 27ms/step - loss: 0.0666 - val_loss: 0.0929\n",
            "Epoch 44/50\n",
            "496/496 [==============================] - 13s 27ms/step - loss: 0.0650 - val_loss: 0.0938\n",
            "Epoch 45/50\n",
            "496/496 [==============================] - 13s 27ms/step - loss: 0.0657 - val_loss: 0.0944\n",
            "Epoch 46/50\n",
            "496/496 [==============================] - 13s 27ms/step - loss: 0.0679 - val_loss: 0.0932\n",
            "Epoch 47/50\n",
            "496/496 [==============================] - 13s 27ms/step - loss: 0.0682 - val_loss: 0.0950\n",
            "Epoch 48/50\n",
            "496/496 [==============================] - 13s 27ms/step - loss: 0.0666 - val_loss: 0.0943\n",
            "Epoch 49/50\n",
            "496/496 [==============================] - 13s 27ms/step - loss: 0.0721 - val_loss: 0.0959\n",
            "Epoch 50/50\n",
            "496/496 [==============================] - 13s 27ms/step - loss: 0.0696 - val_loss: 0.0944\n",
            "Time Taken - 662.4451392159999\n"
          ],
          "name": "stdout"
        }
      ]
    },
    {
      "cell_type": "code",
      "metadata": {
        "colab": {
          "base_uri": "https://localhost:8080/"
        },
        "id": "2f45ad8f-146c-4a06-a572-42e65a97d14c",
        "outputId": "8d169571-74e3-46da-be24-959739327e21"
      },
      "source": [
        "model.summary()"
      ],
      "id": "2f45ad8f-146c-4a06-a572-42e65a97d14c",
      "execution_count": 13,
      "outputs": [
        {
          "output_type": "stream",
          "text": [
            "Model: \"sequential\"\n",
            "_________________________________________________________________\n",
            "Layer (type)                 Output Shape              Param #   \n",
            "=================================================================\n",
            "lstm (LSTM)                  (None, None, 256)         521216    \n",
            "_________________________________________________________________\n",
            "dropout (Dropout)            (None, None, 256)         0         \n",
            "_________________________________________________________________\n",
            "lstm_1 (LSTM)                (None, None, 256)         525312    \n",
            "_________________________________________________________________\n",
            "dropout_1 (Dropout)          (None, None, 256)         0         \n",
            "_________________________________________________________________\n",
            "lstm_2 (LSTM)                (None, None, 256)         525312    \n",
            "_________________________________________________________________\n",
            "dropout_2 (Dropout)          (None, None, 256)         0         \n",
            "_________________________________________________________________\n",
            "dense (Dense)                (None, None, 88)          22616     \n",
            "=================================================================\n",
            "Total params: 1,594,456\n",
            "Trainable params: 1,594,456\n",
            "Non-trainable params: 0\n",
            "_________________________________________________________________\n"
          ],
          "name": "stdout"
        }
      ]
    },
    {
      "cell_type": "markdown",
      "metadata": {
        "id": "-fTHZz3wnb-r"
      },
      "source": [
        "#Calculating Accuracy, Precision, Recall and F-Score"
      ],
      "id": "-fTHZz3wnb-r"
    },
    {
      "cell_type": "code",
      "metadata": {
        "id": "tSMN_n4-U7Gh"
      },
      "source": [
        "pred = model.predict(X_val)"
      ],
      "id": "tSMN_n4-U7Gh",
      "execution_count": 14,
      "outputs": []
    },
    {
      "cell_type": "code",
      "metadata": {
        "id": "DqzrZCTBVsAu"
      },
      "source": [
        "pred = pred>=0.5\n",
        "pred = pred - 0.0"
      ],
      "id": "DqzrZCTBVsAu",
      "execution_count": 15,
      "outputs": []
    },
    {
      "cell_type": "code",
      "metadata": {
        "id": "t06xBeBDpjz2"
      },
      "source": [
        "y_val = y_val-0.0"
      ],
      "id": "t06xBeBDpjz2",
      "execution_count": 16,
      "outputs": []
    },
    {
      "cell_type": "code",
      "metadata": {
        "id": "ObfK3NIfWJyM"
      },
      "source": [
        "true_positives = 0\n",
        "false_positives = 0\n",
        "false_negatives = 0\n",
        "for i in range(pred.shape[0]):\n",
        "  for j in range(pred.shape[1]):\n",
        "    for k in range(pred.shape[2]):\n",
        "      if y_val[i][j][k] == 1.0 and pred[i][j][k] == 1.0:\n",
        "        true_positives+=1                                \n",
        "      elif y_val[i][j][k] == 1.0 and pred[i][j][k] == 0.0:\n",
        "        false_negatives+=1\n",
        "      elif y_val[i][j][k] == 0.0 and pred[i][j][k] == 1.0:\n",
        "        false_positives+=1\n",
        "accuracy = (true_positives/(true_positives+false_positives+false_negatives))\n",
        "precision = true_positives/(true_positives+false_positives)\n",
        "recall = true_positives/(true_positives+false_negatives)\n",
        "fscore = (2*precision*recall)/(precision+recall)"
      ],
      "id": "ObfK3NIfWJyM",
      "execution_count": 17,
      "outputs": []
    },
    {
      "cell_type": "code",
      "metadata": {
        "id": "hJjVN19WutfJ",
        "colab": {
          "base_uri": "https://localhost:8080/"
        },
        "outputId": "b07cf5e3-a695-40c4-c1dd-f392e2065d61"
      },
      "source": [
        "print(accuracy, precision, recall, fscore)"
      ],
      "id": "hJjVN19WutfJ",
      "execution_count": 18,
      "outputs": [
        {
          "output_type": "stream",
          "text": [
            "0.41184509002085173 0.7336514956665562 0.4842492079156495 0.5834139919908199\n"
          ],
          "name": "stdout"
        }
      ]
    },
    {
      "cell_type": "code",
      "metadata": {
        "id": "Q97tjsqW1fvc"
      },
      "source": [
        "model.save(\"cqt_trained.h5\")"
      ],
      "id": "Q97tjsqW1fvc",
      "execution_count": 19,
      "outputs": []
    },
    {
      "cell_type": "markdown",
      "metadata": {
        "id": "h1cGOO7xsjTS"
      },
      "source": [
        "#Plotting an Example Piano-roll"
      ],
      "id": "h1cGOO7xsjTS"
    },
    {
      "cell_type": "code",
      "metadata": {
        "colab": {
          "base_uri": "https://localhost:8080/"
        },
        "id": "mRhzli91_Ss3",
        "outputId": "7f456b7a-775a-4564-c651-b40a6b6b9eb1"
      },
      "source": [
        "x = np.load(\"/content/MAPS_MUS-alb_se2_ENSTDkCl_CQT.npy\")\n",
        "x = x.reshape(1,-1,252)\n",
        "y = np.load(\"/content/MAPS_MUS-alb_se2_ENSTDkCl_label.npy\")\n",
        "y = y.reshape(1,-1,88)\n",
        "y = y-0.0\n",
        "print(x.shape,y.shape)"
      ],
      "id": "mRhzli91_Ss3",
      "execution_count": 20,
      "outputs": [
        {
          "output_type": "stream",
          "text": [
            "(1, 20426, 252) (1, 20426, 88)\n"
          ],
          "name": "stdout"
        }
      ]
    },
    {
      "cell_type": "code",
      "metadata": {
        "id": "dN3JAl2b_jQU"
      },
      "source": [
        "predict = model.predict(x)\n",
        "predict = predict>=0.5\n",
        "predict = predict-0.0"
      ],
      "id": "dN3JAl2b_jQU",
      "execution_count": 21,
      "outputs": []
    },
    {
      "cell_type": "code",
      "metadata": {
        "colab": {
          "base_uri": "https://localhost:8080/",
          "height": 553
        },
        "id": "m1i9pabN6Q5B",
        "outputId": "72c780ab-d786-443a-9023-047b67557215"
      },
      "source": [
        "print(\"PREDICTED\")\n",
        "plt.figure()\n",
        "plt.plot()\n",
        "plt.imshow(np.squeeze(predict).T, cmap=\"Blues\", aspect=\"auto\", interpolation=\"nearest\")\n",
        "plt.show()\n",
        "print(\"ORIGINAL\")\n",
        "plt.figure()\n",
        "plt.plot()\n",
        "plt.imshow(np.squeeze(y).T, cmap=\"Blues\", aspect=\"auto\", interpolation=\"nearest\")\n",
        "plt.show()"
      ],
      "id": "m1i9pabN6Q5B",
      "execution_count": 23,
      "outputs": [
        {
          "output_type": "stream",
          "text": [
            "PREDICTED\n"
          ],
          "name": "stdout"
        },
        {
          "output_type": "display_data",
          "data": {
            "image/png": "[encoded data removed]",
            "text/plain": [
              "<Figure size 432x288 with 1 Axes>"
            ]
          },
          "metadata": {
            "tags": [],
            "needs_background": "light"
          }
        },
        {
          "output_type": "stream",
          "text": [
            "ORIGINAL\n"
          ],
          "name": "stdout"
        },
        {
          "output_type": "display_data",
          "data": {
            "image/png": "[encoded data removed]",
            "text/plain": [
              "<Figure size 432x288 with 1 Axes>"
            ]
          },
          "metadata": {
            "tags": [],
            "needs_background": "light"
          }
        }
      ]
    }
  ]
}